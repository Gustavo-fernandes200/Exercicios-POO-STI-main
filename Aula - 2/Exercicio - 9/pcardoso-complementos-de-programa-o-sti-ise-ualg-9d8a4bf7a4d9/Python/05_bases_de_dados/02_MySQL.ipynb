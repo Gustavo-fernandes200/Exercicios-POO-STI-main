{
 "cells": [
  {
   "cell_type": "markdown",
   "metadata": {},
   "source": [
    "# Acesso a bases de dados MySQL com Python  \n",
    "Pedro Cardoso\n",
    "\n",
    "(ISE/UAlg - pcardoso@ualg.pt)"
   ]
  },
  {
   "cell_type": "markdown",
   "metadata": {},
   "source": [
    "## Estabelecimento de conexão à base de dados usando um Connector/Python"
   ]
  },
  {
   "cell_type": "markdown",
   "metadata": {},
   "source": [
    "o método  `connect()` cria uma conexão a um servidor MySQL e devolve um objeto `MySQLConnection`.\n",
    "(ver https://dev.mysql.com/doc/connector-python/en/connector-python-connectargs.html para outros argumentos e opções)"
   ]
  },
  {
   "cell_type": "code",
   "execution_count": null,
   "metadata": {
    "ExecuteTime": {
     "end_time": "2022-03-28T17:28:31.658717Z",
     "start_time": "2022-03-28T17:28:31.619315Z"
    }
   },
   "outputs": [],
   "source": [
    "import mysql.connector\n",
    "\n",
    "cnx = mysql.connector.connect(user='sensors', # make sure you have a user:sensors/pw:##sensors## with access rights to the sensors database\n",
    "                              password='##sensors##', \n",
    "                              host='localhost', # replace 'localhost', if necessary\n",
    "                              database='sensors')\n",
    "cnx"
   ]
  },
  {
   "cell_type": "markdown",
   "metadata": {},
   "source": [
    "Algumas informações sobre a conexão podem ser consultadas no `__dict__`"
   ]
  },
  {
   "cell_type": "code",
   "execution_count": null,
   "metadata": {
    "ExecuteTime": {
     "end_time": "2022-03-28T17:28:31.714464Z",
     "start_time": "2022-03-28T17:28:31.660259Z"
    }
   },
   "outputs": [],
   "source": [
    "cnx.__dict__"
   ]
  },
  {
   "cell_type": "markdown",
   "metadata": {},
   "source": [
    "E no final devemos libertar sempre a conexão"
   ]
  },
  {
   "cell_type": "code",
   "execution_count": null,
   "metadata": {
    "ExecuteTime": {
     "end_time": "2022-03-28T17:28:31.801751Z",
     "start_time": "2022-03-28T17:28:31.715948Z"
    }
   },
   "outputs": [],
   "source": [
    "cnx.close()"
   ]
  },
  {
   "cell_type": "markdown",
   "metadata": {
    "ExecuteTime": {
     "end_time": "2018-02-28T17:08:57.922200Z",
     "start_time": "2018-02-28T17:08:57.917199Z"
    },
    "collapsed": true
   },
   "source": [
    "### Ficheiro de configuração  e tratamento de exceções\n",
    "De um modo geral é aconselhável\n",
    "* fazer tratamento de exceções \n",
    "* e criar um ficheiro de configuração (config.py) \n",
    "```\n",
    "config = {\n",
    "    'host' : 'localhost',\n",
    "    'user' : 'sensors',\n",
    "    'password' : '##sensors##',\n",
    "    'db' : 'sensors'\n",
    "}\n",
    "```\n",
    "e depois fazer..."
   ]
  },
  {
   "cell_type": "code",
   "execution_count": null,
   "metadata": {
    "ExecuteTime": {
     "end_time": "2022-03-28T17:28:31.891904Z",
     "start_time": "2022-03-28T17:28:31.803229Z"
    }
   },
   "outputs": [],
   "source": [
    "# Comecamos por importar o ficheiro de configuração\n",
    "import mysql.connector\n",
    "\n",
    "from config import config\n",
    "config"
   ]
  },
  {
   "cell_type": "code",
   "execution_count": null,
   "metadata": {
    "ExecuteTime": {
     "end_time": "2022-03-28T17:28:32.002904Z",
     "start_time": "2022-03-28T17:28:31.893590Z"
    }
   },
   "outputs": [],
   "source": [
    "try:\n",
    "    cnx = mysql.connector.connect(**config)\n",
    "except mysql.connector.Error as err:\n",
    "    print('Ups! Ocorreu um erro!')\n",
    "    print(dir(err))\n",
    "    print(err.errno)\n",
    "else:\n",
    "    print('Sucesso!')\n",
    "    cnx.close()"
   ]
  },
  {
   "cell_type": "markdown",
   "metadata": {
    "lang": "pt"
   },
   "source": [
    "### Exercício\n",
    "1. Experimentem a desligar o servidor e correr a linha acima: qual a mensagem de erro?\n",
    "2. Mude o nome do utilizador no ficheiro de configuração (reinicie o kernel) e corra a linha acima: qual a mensagem de erro?\n",
    "3. Re-implemente o código de modo a dar a mensagem adequada quando falhar pelo servidor estar desligado e voltar a tentar mais 2 vezes a cada 5 segundos (vejam o pacote `time` e particular o método `sleep()`)"
   ]
  },
  {
   "cell_type": "code",
   "execution_count": null,
   "metadata": {
    "ExecuteTime": {
     "end_time": "2022-03-28T17:28:37.153186Z",
     "start_time": "2022-03-28T17:28:32.004392Z"
    }
   },
   "outputs": [],
   "source": [
    "import time\n",
    "print('ola')\n",
    "time.sleep(5)\n",
    "print('ola de novo!')"
   ]
  },
  {
   "cell_type": "markdown",
   "metadata": {},
   "source": [
    "## Operações de DDL: Criação de uma base de dados\n",
    "\n",
    "Para a criação das tabelas e relacionamentos podemos construiro o sql ou, como alternativa, podemos usar ferramentas como sejam o MySQL Workbench, o Phpmyadmin, o SQlite Browser, o DataGrip, etc. \n",
    "\n",
    "\n",
    "Consideremos o caso em que contruímos o sql..."
   ]
  },
  {
   "cell_type": "markdown",
   "metadata": {},
   "source": [
    "Comecemos por criar uma base de dados no servidor de MySQL (façam sempre tratamento de exceções...)."
   ]
  },
  {
   "cell_type": "code",
   "execution_count": null,
   "metadata": {
    "ExecuteTime": {
     "end_time": "2022-03-28T17:28:37.165564Z",
     "start_time": "2022-03-28T17:28:37.157059Z"
    }
   },
   "outputs": [],
   "source": [
    "sql = '''\n",
    "    USE `sensors` ;\n",
    "    \n",
    "    -- -----------------------------------------------------\n",
    "    -- Table `sensors`.`Location`\n",
    "    -- -----------------------------------------------------\n",
    "    CREATE TABLE IF NOT EXISTS `sensors`.`Location` (\n",
    "      `idLocation` INT NOT NULL AUTO_INCREMENT,\n",
    "      `name` VARCHAR(45) NOT NULL,\n",
    "      `description` VARCHAR(45) NOT NULL,\n",
    "      PRIMARY KEY (`idLocation`),\n",
    "      UNIQUE INDEX `name_UNIQUE` (`name` ASC)) ENGINE = InnoDB;\n",
    "\n",
    "\n",
    "    -- -----------------------------------------------------\n",
    "    -- Table `sensors`.`Unit`\n",
    "    -- -----------------------------------------------------\n",
    "    CREATE TABLE IF NOT EXISTS `sensors`.`Unit` (\n",
    "      `unit` VARCHAR(45) NOT NULL,\n",
    "      `description` VARCHAR(45) NOT NULL,\n",
    "      PRIMARY KEY (`unit`)) ENGINE = InnoDB;\n",
    "\n",
    "\n",
    "    -- -----------------------------------------------------\n",
    "    -- Table `sensors`.`Sensor`\n",
    "    -- -----------------------------------------------------\n",
    "    CREATE TABLE IF NOT EXISTS `sensors`.`Sensor` (\n",
    "      `idSensor` INT NOT NULL AUTO_INCREMENT,\n",
    "      `idLocation` INT NOT NULL,\n",
    "      `name` VARCHAR(45) NOT NULL,\n",
    "      `unit` VARCHAR(45) NOT NULL,\n",
    "      PRIMARY KEY (`idSensor`),\n",
    "      INDEX `fk_Sensor_Location_idx` (`idLocation` ASC),\n",
    "      INDEX `fk_Sensor_Units1_idx` (`unit` ASC),\n",
    "      UNIQUE INDEX `uniq_loc_vs_sensor` (`idLocation` ASC, `name` ASC),\n",
    "      CONSTRAINT `fk_Sensor_Location`\n",
    "        FOREIGN KEY (`idLocation`)\n",
    "        REFERENCES `sensors`.`Location` (`idLocation`)\n",
    "        ON DELETE CASCADE\n",
    "        ON UPDATE CASCADE,\n",
    "      CONSTRAINT `fk_Sensor_Units1`\n",
    "        FOREIGN KEY (`unit`)\n",
    "        REFERENCES `sensors`.`Unit` (`unit`)\n",
    "        ON DELETE CASCADE\n",
    "        ON UPDATE CASCADE) ENGINE = InnoDB;\n",
    "\n",
    "\n",
    "    -- -----------------------------------------------------\n",
    "    -- Table `sensors`.`Reading`\n",
    "    -- -----------------------------------------------------\n",
    "    CREATE TABLE IF NOT EXISTS `sensors`.`Reading` (\n",
    "      `idReading` INT NOT NULL AUTO_INCREMENT,\n",
    "      `idSensor` INT NOT NULL,\n",
    "      `timestamp` TIMESTAMP NOT NULL,\n",
    "      `value` FLOAT NOT NULL,\n",
    "      PRIMARY KEY (`idReading`),\n",
    "      INDEX `fk_Reading_Sensor1_idx` (`idSensor` ASC),\n",
    "      CONSTRAINT `fk_Reading_Sensor1`\n",
    "        FOREIGN KEY (`idSensor`)\n",
    "        REFERENCES `sensors`.`Sensor` (`idSensor`)\n",
    "        ON DELETE CASCADE\n",
    "        ON UPDATE CASCADE) ENGINE = InnoDB;\n",
    "\n",
    "\n",
    "    -- -----------------------------------------------------\n",
    "    -- Table `sensors`.`Alert`\n",
    "    -- -----------------------------------------------------\n",
    "    CREATE TABLE IF NOT EXISTS `sensors`.`Alert` (\n",
    "      `idAlert` INT NOT NULL AUTO_INCREMENT,\n",
    "      `idSensor` INT NOT NULL,\n",
    "      `timestamp` TIMESTAMP NOT NULL,\n",
    "      `description` VARCHAR(45) NOT NULL,\n",
    "      `cleared` BIT NULL,\n",
    "      PRIMARY KEY (`idAlert`),\n",
    "      INDEX `fk_Alert_Sensor1_idx` (`idSensor` ASC),\n",
    "      CONSTRAINT `fk_Alert_Sensor1`\n",
    "        FOREIGN KEY (`idSensor`)\n",
    "        REFERENCES `sensors`.`Sensor` (`idSensor`)\n",
    "        ON DELETE CASCADE\n",
    "        ON UPDATE CASCADE) ENGINE = InnoDB;\n",
    "'''"
   ]
  },
  {
   "cell_type": "markdown",
   "metadata": {},
   "source": [
    "Depois de termos o SQL/DDL fazemos"
   ]
  },
  {
   "cell_type": "code",
   "execution_count": null,
   "metadata": {
    "ExecuteTime": {
     "end_time": "2022-03-28T17:28:37.315200Z",
     "start_time": "2022-03-28T17:28:37.166981Z"
    }
   },
   "outputs": [],
   "source": [
    "# from config import config as conf\n",
    "from config import config\n",
    "import mysql.connector\n",
    "\n",
    "try:\n",
    "    # Abrimos a conexão \n",
    "    cnx = mysql.connector.connect(**config)\n",
    "    # criamos um cursor a partir da conexão \n",
    "    cursor = cnx.cursor()\n",
    "    # executamos o query sql\n",
    "    cursor.execute(sql, multi=True)\n",
    "except mysql.connector.Error as err:\n",
    "    print(err)\n",
    "else:\n",
    "    print('ok!')\n",
    "    cnx.close()"
   ]
  },
  {
   "cell_type": "markdown",
   "metadata": {},
   "source": [
    "O comando `cnx.cursor()` devolve um objeto da classe `MySQLCursor` que podem executar operações como instruções SQL. Objetos de `cursor` interagem com o servidor MySQL usando um objeto `MySQLConnection`. Para mais informações ver https://dev.mysql.com/doc/connector-python/en/connector-python-api-mysqlcursor.html"
   ]
  },
  {
   "cell_type": "markdown",
   "metadata": {},
   "source": [
    "No phpmyadmin devem ver algo como\n",
    "\n",
    "![phpmyadmin_database_created.png](phpmyadmin_database_created.png)\n"
   ]
  },
  {
   "cell_type": "markdown",
   "metadata": {},
   "source": [
    "## Operações CRUD"
   ]
  },
  {
   "cell_type": "markdown",
   "metadata": {},
   "source": [
    "### `INSERT` \n",
    "\n",
    "Aberta a conexão em MySQL"
   ]
  },
  {
   "cell_type": "code",
   "execution_count": null,
   "metadata": {
    "ExecuteTime": {
     "end_time": "2022-03-28T17:28:37.425187Z",
     "start_time": "2022-03-28T17:28:37.316561Z"
    }
   },
   "outputs": [],
   "source": [
    "cnx = mysql.connector.connect(**config)\n",
    "cursor = cnx.cursor()"
   ]
  },
  {
   "cell_type": "markdown",
   "metadata": {},
   "source": [
    "#### localização\n",
    "Uma boa estratégia é definir variáveis no SQL usando parametros no estilo `%s` or `%(nome)s` (i.e., usar o estilo \"format\" ou \"pyformat\" - ver https://pyformat.info/) e um tuplo com os dados"
   ]
  },
  {
   "cell_type": "code",
   "execution_count": null,
   "metadata": {
    "ExecuteTime": {
     "end_time": "2022-03-28T17:29:00.578828Z",
     "start_time": "2022-03-28T17:29:00.576669Z"
    }
   },
   "outputs": [],
   "source": [
    "sql = '''\n",
    "    INSERT INTO Location \n",
    "        (idLocation, name, description) \n",
    "    VALUES \n",
    "        (DEFAULT, %s, %s)\n",
    "'''\n",
    "# e um tuplo com os dados\n",
    "data = ('Prometheus Server II', 'Prometheus Server @ lab. 163 / ISE /UAlg')"
   ]
  },
  {
   "cell_type": "markdown",
   "metadata": {},
   "source": [
    "e agora inserir uma nova localização na base de dados e obter o id correspondente, guardado em `location_id` e que iremos usar à frente"
   ]
  },
  {
   "cell_type": "code",
   "execution_count": null,
   "metadata": {
    "ExecuteTime": {
     "end_time": "2022-03-28T17:29:01.803671Z",
     "start_time": "2022-03-28T17:29:01.800056Z"
    }
   },
   "outputs": [],
   "source": [
    "cursor.execute(sql, data)\n",
    "location_id = cursor.lastrowid\n",
    "location_id"
   ]
  },
  {
   "cell_type": "markdown",
   "metadata": {},
   "source": [
    "Importante, quando estamos a usar um sistema transacional, como o InnoDB, temos de efetuar o \"commit\" depois de fazer um INSERT, DELETE, ou UPDATE (comandos que alterem tabelas).\n",
    "ver (https://dev.mysql.com/doc/connector-python/en/connector-python-api-mysqlconnection-commit.html)"
   ]
  },
  {
   "cell_type": "code",
   "execution_count": null,
   "metadata": {
    "ExecuteTime": {
     "end_time": "2022-03-28T17:29:03.447894Z",
     "start_time": "2022-03-28T17:29:03.408120Z"
    }
   },
   "outputs": [],
   "source": [
    "cnx.commit()"
   ]
  },
  {
   "cell_type": "markdown",
   "metadata": {},
   "source": [
    "#### Unit\n",
    "Inserir uma nova `Unit`, se não existir (ver a documentação do comando `REPLACE` do SQL)"
   ]
  },
  {
   "cell_type": "code",
   "execution_count": null,
   "metadata": {
    "ExecuteTime": {
     "end_time": "2022-03-28T17:29:05.316426Z",
     "start_time": "2022-03-28T17:29:05.231370Z"
    }
   },
   "outputs": [],
   "source": [
    "sql = '''\n",
    "    REPLACE INTO Unit \n",
    "        (unit, description) \n",
    "    VALUES \n",
    "        (%s, %s)\n",
    "'''\n",
    "data = (\"percent\", \"percentage of usage\")\n",
    "\n",
    "cursor.execute(sql, data)\n",
    "cnx.commit()"
   ]
  },
  {
   "cell_type": "markdown",
   "metadata": {},
   "source": [
    "#### Sensor\n",
    "Inserir um novo sensor e obter o seu id, preparando o sql"
   ]
  },
  {
   "cell_type": "code",
   "execution_count": null,
   "metadata": {
    "ExecuteTime": {
     "end_time": "2022-03-28T17:29:06.326062Z",
     "start_time": "2022-03-28T17:29:06.323322Z"
    },
    "cell_style": "center"
   },
   "outputs": [],
   "source": [
    "# prepare o sql\n",
    "sql = '''INSERT INTO Sensor \n",
    "            (idSensor, idLocation, name, unit)\n",
    "        VALUES \n",
    "            (DEFAULT, %(idLocation)s, %(name)s, %(unit)s);'''"
   ]
  },
  {
   "cell_type": "markdown",
   "metadata": {},
   "source": [
    "Preparar os dados, agora com um dicionário que tem em conta `%(idLocation)s, %(name)s, %(unit)s`\n"
   ]
  },
  {
   "cell_type": "code",
   "execution_count": null,
   "metadata": {
    "ExecuteTime": {
     "end_time": "2022-03-28T17:29:07.489662Z",
     "start_time": "2022-03-28T17:29:07.487290Z"
    }
   },
   "outputs": [],
   "source": [
    "data = {\n",
    "        'idLocation': location_id, \n",
    "        'name' : 'cpu_sensor_01', \n",
    "        'unit' : 'percent'\n",
    "       }"
   ]
  },
  {
   "cell_type": "markdown",
   "metadata": {},
   "source": [
    "Executar o sql query"
   ]
  },
  {
   "cell_type": "code",
   "execution_count": null,
   "metadata": {
    "ExecuteTime": {
     "end_time": "2022-03-28T17:29:08.808331Z",
     "start_time": "2022-03-28T17:29:08.764117Z"
    }
   },
   "outputs": [],
   "source": [
    "cursor.execute(sql, data)\n",
    "sensor_id = cursor.lastrowid\n",
    "cnx.commit()"
   ]
  },
  {
   "cell_type": "code",
   "execution_count": null,
   "metadata": {
    "ExecuteTime": {
     "end_time": "2022-03-28T17:29:09.355194Z",
     "start_time": "2022-03-28T17:29:09.352142Z"
    }
   },
   "outputs": [],
   "source": [
    "sensor_id"
   ]
  },
  {
   "cell_type": "markdown",
   "metadata": {},
   "source": [
    "#### Readings\n",
    "E agora, obter alguns dados e enviar para a base de dados. Neste caso vamos usar a biblioteca `psutil` que permite obter informações sobre processos em execução e utilização do sistema (CPU, memória, discos, rede, sensores) em Python. (https://pypi.org/project/psutil/)"
   ]
  },
  {
   "cell_type": "code",
   "execution_count": null,
   "metadata": {
    "ExecuteTime": {
     "end_time": "2022-03-28T17:29:11.835174Z",
     "start_time": "2022-03-28T17:29:10.352003Z"
    }
   },
   "outputs": [],
   "source": [
    "!pip3 install psutil"
   ]
  },
  {
   "cell_type": "code",
   "execution_count": null,
   "metadata": {
    "ExecuteTime": {
     "end_time": "2022-03-28T17:30:39.933317Z",
     "start_time": "2022-03-28T17:30:38.916050Z"
    }
   },
   "outputs": [],
   "source": [
    "import psutil\n",
    "psutil.cpu_percent(interval=1)"
   ]
  },
  {
   "cell_type": "code",
   "execution_count": null,
   "metadata": {
    "ExecuteTime": {
     "end_time": "2022-03-28T17:31:04.246707Z",
     "start_time": "2022-03-28T17:30:43.146316Z"
    }
   },
   "outputs": [],
   "source": [
    "import psutil\n",
    "\n",
    "sql = '''\n",
    "INSERT INTO Reading\n",
    "    (idReading, idSensor, timestamp, value)     \n",
    "VALUES \n",
    "    (DEFAULT, %(idSensor)s, DEFAULT, %(value)s)\n",
    "'''\n",
    "\n",
    "for _ in range(20):\n",
    "    data = {\n",
    "           'idSensor' : sensor_id, \n",
    "           'value' : psutil.cpu_percent(interval=1)\n",
    "           }\n",
    "    \n",
    "    cursor.execute(sql, data) \n",
    "    cnx.commit()\n",
    "    print('.', end='')"
   ]
  },
  {
   "cell_type": "code",
   "execution_count": null,
   "metadata": {
    "ExecuteTime": {
     "end_time": "2022-03-28T17:31:04.267180Z",
     "start_time": "2022-03-28T17:31:04.264345Z"
    }
   },
   "outputs": [],
   "source": [
    "cursor.close()\n",
    "cnx.close()"
   ]
  },
  {
   "cell_type": "markdown",
   "metadata": {},
   "source": [
    "## Selecionar dados em MySQL\n",
    "\n",
    "Todo o processo é simples dados os conhecimentos anteriores</div><i class=\"fa fa-lightbulb-o \"></i>"
   ]
  },
  {
   "cell_type": "code",
   "execution_count": null,
   "metadata": {
    "ExecuteTime": {
     "end_time": "2022-03-28T17:31:04.354751Z",
     "start_time": "2022-03-28T17:31:04.278709Z"
    }
   },
   "outputs": [],
   "source": [
    "cnx = mysql.connector.connect(**config)\n",
    "cursor = cnx.cursor()  "
   ]
  },
  {
   "cell_type": "code",
   "execution_count": null,
   "metadata": {
    "ExecuteTime": {
     "end_time": "2022-03-28T17:31:04.442284Z",
     "start_time": "2022-03-28T17:31:04.368559Z"
    }
   },
   "outputs": [],
   "source": [
    "sql = '''\n",
    "    SELECT idLocation, name, description \n",
    "    FROM Location \n",
    "    WHERE description LIKE \"%163%\"\n",
    "'''\n",
    "\n",
    "cursor.execute(sql)"
   ]
  },
  {
   "cell_type": "code",
   "execution_count": null,
   "metadata": {
    "ExecuteTime": {
     "end_time": "2022-03-28T17:31:04.510943Z",
     "start_time": "2022-03-28T17:31:04.453495Z"
    }
   },
   "outputs": [],
   "source": [
    "cursor"
   ]
  },
  {
   "cell_type": "markdown",
   "metadata": {},
   "source": [
    "E percorrer os dados, usando por exemplo um ciclo `for`"
   ]
  },
  {
   "cell_type": "code",
   "execution_count": null,
   "metadata": {
    "ExecuteTime": {
     "end_time": "2022-03-28T17:31:04.599198Z",
     "start_time": "2022-03-28T17:31:04.524716Z"
    }
   },
   "outputs": [],
   "source": [
    "for (idLocation, name, description) in cursor:\n",
    "    print(\"id: {}\\n\\t name: {} \\n\\t description: {}\".format(idLocation, name, description))\n"
   ]
  },
  {
   "cell_type": "markdown",
   "metadata": {},
   "source": [
    "Outros exemplos"
   ]
  },
  {
   "cell_type": "code",
   "execution_count": null,
   "metadata": {
    "ExecuteTime": {
     "end_time": "2022-03-28T17:31:04.720808Z",
     "start_time": "2022-03-28T17:31:04.616135Z"
    },
    "scrolled": true
   },
   "outputs": [],
   "source": [
    "sql = '''\n",
    "    SELECT idReading, idSensor, timestamp, value \n",
    "    FROM Reading \n",
    "    WHERE value BETWEEN %s and %s\n",
    "'''\n",
    "data = (20, 30)\n",
    "\n",
    "cursor.execute(sql, data)\n",
    "\n",
    "for (idReading, idSensor, timestamp, value) in cursor:\n",
    "    print(\"idReading: {}\\n\\t idSensor: {} \\n\\t time: {} \\n\\t value: {}\".format(idReading, idSensor, timestamp, value))"
   ]
  },
  {
   "cell_type": "code",
   "execution_count": null,
   "metadata": {
    "ExecuteTime": {
     "end_time": "2022-03-28T17:31:04.797886Z",
     "start_time": "2022-03-28T17:31:04.741576Z"
    },
    "run_control": {
     "marked": true
    }
   },
   "outputs": [],
   "source": [
    "sql = '''\n",
    "    select *\n",
    "    from Location\n",
    "        inner join Sensor S on Location.idLocation = S.idLocation\n",
    "        inner join Unit U on S.unit = U.unit\n",
    "        inner join Reading R on S.idSensor = R.idSensor\n",
    "    where value between %(low)s and %(high)s\n",
    "    order by value\n",
    "'''\n",
    "\n",
    "data = {\n",
    "    'low': 20,\n",
    "    'high': 30\n",
    "}\n",
    "\n",
    "cursor.execute(sql, data)\n",
    "#list(cursor)"
   ]
  },
  {
   "cell_type": "markdown",
   "metadata": {},
   "source": [
    "Podemos obter os nomes e outros dados das colunas (https://dev.mysql.com/doc/connector-python/en/connector-python-api-mysqlcursor-description.html) no formato\n",
    "(name, type_code, display_size, internal_size, precision, scale, null_ok, column_flags)\n"
   ]
  },
  {
   "cell_type": "code",
   "execution_count": null,
   "metadata": {
    "ExecuteTime": {
     "end_time": "2022-03-28T17:31:04.911472Z",
     "start_time": "2022-03-28T17:31:04.811111Z"
    }
   },
   "outputs": [],
   "source": [
    "cursor.description"
   ]
  },
  {
   "cell_type": "code",
   "execution_count": null,
   "metadata": {
    "ExecuteTime": {
     "end_time": "2022-03-28T17:31:05.007059Z",
     "start_time": "2022-03-28T17:31:04.924861Z"
    },
    "scrolled": true
   },
   "outputs": [],
   "source": [
    "from mysql.connector import FieldType\n",
    "\n",
    "for i in range(len(cursor.description)):\n",
    "    print(\"Column {}:\".format(i+1))\n",
    "    desc = cursor.description[i]\n",
    "    print(\"  column_name = {}\".format(desc[0]))\n",
    "    print(\"  type = {} ({})\".format(desc[1], FieldType.get_info(desc[1])))\n",
    "    print(\"  null_ok = {}\".format(desc[6]))"
   ]
  },
  {
   "cell_type": "code",
   "execution_count": null,
   "metadata": {
    "ExecuteTime": {
     "end_time": "2022-03-28T17:31:05.175916Z",
     "start_time": "2022-03-28T17:31:05.021707Z"
    }
   },
   "outputs": [],
   "source": [
    "lista_de_colunas = [linha[0] for linha in cursor.description]\n",
    "lista_de_colunas"
   ]
  },
  {
   "cell_type": "code",
   "execution_count": null,
   "metadata": {
    "ExecuteTime": {
     "end_time": "2022-03-28T17:31:05.275983Z",
     "start_time": "2022-03-28T17:31:05.190710Z"
    },
    "scrolled": true
   },
   "outputs": [],
   "source": [
    "for linha in cursor:\n",
    "    print('\\t'.join([f'|{coluna}: {valor}' for coluna, valor in zip(lista_de_colunas, linha)]))    "
   ]
  },
  {
   "cell_type": "markdown",
   "metadata": {},
   "source": [
    "### o comando `fetchall`\n",
    "Usando o comando `fetchall` podemos obter todos os resultados de uma única vez como uma lista de tuplos"
   ]
  },
  {
   "cell_type": "code",
   "execution_count": null,
   "metadata": {
    "ExecuteTime": {
     "end_time": "2022-03-28T17:31:05.351951Z",
     "start_time": "2022-03-28T17:31:05.290883Z"
    },
    "scrolled": true
   },
   "outputs": [],
   "source": [
    "# é necessario voltar a correr o select pois o cursor foi esvaziado\n",
    "cursor.execute(sql, data)\n",
    "\n",
    "cursor.fetchall()"
   ]
  },
  {
   "cell_type": "markdown",
   "metadata": {},
   "source": [
    "Podemos também converter para um dicionário mas __nosso exemplo (dado o \"*\") NÃO é boa ideia__ pois há colunas que \"têm o mesmo nome\" (e.g., `nome`), pelo que se perdem colunas ao passar para um dicionário."
   ]
  },
  {
   "cell_type": "code",
   "execution_count": null,
   "metadata": {
    "ExecuteTime": {
     "end_time": "2022-03-28T17:31:05.443758Z",
     "start_time": "2022-03-28T17:31:05.370591Z"
    },
    "scrolled": true
   },
   "outputs": [],
   "source": [
    "# é necessario voltar a correr o select pois o cursor foi \"esvaziado\"\n",
    "cursor.execute(sql, data)\n",
    "\n",
    "for linha in cursor:\n",
    "    print({coluna: valor for valor, coluna  in zip(linha, lista_de_colunas)})"
   ]
  },
  {
   "cell_type": "code",
   "execution_count": null,
   "metadata": {
    "ExecuteTime": {
     "end_time": "2022-03-28T17:31:05.530812Z",
     "start_time": "2022-03-28T17:31:05.459381Z"
    }
   },
   "outputs": [],
   "source": [
    "cursor.close()\n",
    "cnx.close()"
   ]
  },
  {
   "cell_type": "markdown",
   "metadata": {},
   "source": [
    "### Dados na forma de dicionários\n",
    "\n",
    "Se criar o cursor com o parametro `dictionary=True` ao iterar sobre os resultados estes vêm na forma de dicionários"
   ]
  },
  {
   "cell_type": "code",
   "execution_count": null,
   "metadata": {
    "ExecuteTime": {
     "end_time": "2022-03-28T17:31:05.623330Z",
     "start_time": "2022-03-28T17:31:05.543577Z"
    }
   },
   "outputs": [],
   "source": [
    "cnx = mysql.connector.connect(**config)\n",
    "cursor = cnx.cursor(dictionary=True)\n",
    "\n",
    "sql = '''\n",
    "    SELECT idReading, idSensor, timestamp, value \n",
    "    FROM Reading \n",
    "    WHERE value BETWEEN %s and %s\n",
    "'''\n",
    "data = (5, 50)\n",
    "\n",
    "cursor.execute(sql, data)\n",
    "\n",
    "for linha in cursor:\n",
    "    print(linha)"
   ]
  },
  {
   "cell_type": "code",
   "execution_count": null,
   "metadata": {
    "ExecuteTime": {
     "end_time": "2022-03-28T17:31:05.709382Z",
     "start_time": "2022-03-28T17:31:05.637710Z"
    }
   },
   "outputs": [],
   "source": [
    "cursor.close()\n",
    "cnx.close()"
   ]
  },
  {
   "cell_type": "markdown",
   "metadata": {},
   "source": [
    "### EXERCÍCIO\n",
    "Utilize os pacotes `time` e `psutil` para calcular a memoria virtual livre a cada segundo durante 30 segundos, guardando na base de dados. Use\n",
    "```\n",
    "...\n",
    "x = psutil.virtual_memory()\n",
    "x.free\n",
    "...\n",
    "```"
   ]
  },
  {
   "cell_type": "code",
   "execution_count": null,
   "metadata": {},
   "outputs": [],
   "source": []
  }
 ],
 "metadata": {
  "kernelspec": {
   "display_name": "Python 3 (ipykernel)",
   "language": "python",
   "name": "python3"
  },
  "language_info": {
   "codemirror_mode": {
    "name": "ipython",
    "version": 3
   },
   "file_extension": ".py",
   "mimetype": "text/x-python",
   "name": "python",
   "nbconvert_exporter": "python",
   "pygments_lexer": "ipython3",
   "version": "3.8.10"
  },
  "latex_envs": {
   "LaTeX_envs_menu_present": true,
   "autoclose": true,
   "autocomplete": true,
   "bibliofile": "references.bib",
   "cite_by": "apalike",
   "current_citInitial": 1,
   "eqLabelWithNumbers": false,
   "eqNumInitial": 1,
   "hotkeys": {
    "equation": "Ctrl-E",
    "itemize": "Ctrl-I"
   },
   "labels_anchors": false,
   "latex_user_defs": false,
   "report_style_numbering": true,
   "user_envs_cfg": false
  },
  "nbTranslate": {
   "displayLangs": [
    "pt"
   ],
   "hotkey": "alt-t",
   "langInMainMenu": true,
   "sourceLang": "en",
   "targetLang": "pt",
   "useGoogleTranslate": true
  },
  "toc": {
   "base_numbering": 1,
   "nav_menu": {
    "height": "307px",
    "width": "476px"
   },
   "number_sections": true,
   "sideBar": true,
   "skip_h1_title": false,
   "title_cell": "Table of Contents",
   "title_sidebar": "Contents",
   "toc_cell": false,
   "toc_position": {},
   "toc_section_display": true,
   "toc_window_display": false
  },
  "varInspector": {
   "cols": {
    "lenName": 16,
    "lenType": 16,
    "lenVar": 40
   },
   "kernels_config": {
    "python": {
     "delete_cmd_postfix": "",
     "delete_cmd_prefix": "del ",
     "library": "var_list.py",
     "varRefreshCmd": "print(var_dic_list())"
    },
    "r": {
     "delete_cmd_postfix": ") ",
     "delete_cmd_prefix": "rm(",
     "library": "var_list.r",
     "varRefreshCmd": "cat(var_dic_list()) "
    }
   },
   "types_to_exclude": [
    "module",
    "function",
    "builtin_function_or_method",
    "instance",
    "_Feature"
   ],
   "window_display": false
  }
 },
 "nbformat": 4,
 "nbformat_minor": 2
}
