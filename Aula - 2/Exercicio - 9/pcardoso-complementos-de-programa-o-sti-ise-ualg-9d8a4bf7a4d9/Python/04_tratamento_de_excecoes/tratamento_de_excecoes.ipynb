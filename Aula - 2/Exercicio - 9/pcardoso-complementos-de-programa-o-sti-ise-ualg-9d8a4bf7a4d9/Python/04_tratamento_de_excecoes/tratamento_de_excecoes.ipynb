{
 "cells": [
  {
   "cell_type": "markdown",
   "metadata": {},
   "source": [
    "# Tratamento de exceções\n",
    "Pedro Cardoso\n",
    "\n",
    "(ISE/UAlg - pcardoso@ualg.pt)"
   ]
  },
  {
   "cell_type": "markdown",
   "metadata": {},
   "source": [
    "Até agora mensagens de erro foram apenas mencionadas mas já tivemos alguns exemplo. Existem pelo menos dois tipos distintos de erros: erros de sintaxe e exceções."
   ]
  },
  {
   "cell_type": "markdown",
   "metadata": {},
   "source": [
    "## Erros de sintaxe \n",
    "\n",
    "Erros de sintaxe, correpondem a uma codicação que não segue as regras de sintax do Python:"
   ]
  },
  {
   "cell_type": "code",
   "execution_count": null,
   "metadata": {
    "ExecuteTime": {
     "end_time": "2022-03-22T11:03:00.435366Z",
     "start_time": "2022-03-22T11:03:00.432633Z"
    }
   },
   "outputs": [],
   "source": [
    "while True\n",
    "    print('Hello world')"
   ]
  },
  {
   "cell_type": "markdown",
   "metadata": {},
   "source": [
    "O _parser_ repete a linha inválida e apresenta uma pequena ‘seta’ apontando para o ponto da linha em que o erro foi detectado. Mas, possivelemente mais importante, o nome do ficheiro e número de linha são exibidos para que possa rastrear o erro no texto do script."
   ]
  },
  {
   "cell_type": "markdown",
   "metadata": {},
   "source": [
    "## Exceções\n",
    "\n",
    "Mesmo que um comando ou expressão estejam sintaticamente corretos, talvez ocorra um erro na hora de sua execução. Erros detectados durante a execução são chamados **exceções** e não são necessariamente **fatais**: já veremos como tratá-las em programas Python. \n",
    "\n",
    "A maioria das exceções não são tratadas pelos programas e acabam resultando em mensagens de erro"
   ]
  },
  {
   "cell_type": "code",
   "execution_count": null,
   "metadata": {
    "ExecuteTime": {
     "end_time": "2022-03-22T11:04:30.626738Z",
     "start_time": "2022-03-22T11:04:30.616465Z"
    }
   },
   "outputs": [],
   "source": [
    "1/0"
   ]
  },
  {
   "cell_type": "code",
   "execution_count": null,
   "metadata": {
    "ExecuteTime": {
     "end_time": "2022-03-22T11:04:31.583173Z",
     "start_time": "2022-03-22T11:04:31.576722Z"
    }
   },
   "outputs": [],
   "source": [
    "spam + 3"
   ]
  },
  {
   "cell_type": "code",
   "execution_count": null,
   "metadata": {
    "ExecuteTime": {
     "end_time": "2022-03-22T11:05:26.567128Z",
     "start_time": "2022-03-22T11:05:26.561081Z"
    }
   },
   "outputs": [],
   "source": [
    "\"spam\" + 3"
   ]
  },
  {
   "cell_type": "markdown",
   "metadata": {},
   "source": [
    "A última linha da mensagem de erro indica o que aconteceu. Exceções surgem com diferentes tipos, e o tipo é exibido como parte da mensagem: os tipos no exemplo são `ZeroDivisionError`, `NameError` e `TypeError`. \n",
    "\n"
   ]
  },
  {
   "cell_type": "code",
   "execution_count": null,
   "metadata": {
    "ExecuteTime": {
     "end_time": "2022-03-22T11:06:03.789890Z",
     "start_time": "2022-03-22T11:06:03.778071Z"
    }
   },
   "outputs": [],
   "source": [
    "def f1():\n",
    "    print(x+y)\n",
    "\n",
    "def f0():\n",
    "    f1()\n",
    "\n",
    "f0()"
   ]
  },
  {
   "cell_type": "markdown",
   "metadata": {},
   "source": [
    "A parte anterior da mensagem de erro apresenta o contexto onde ocorreu a exceção. Essa informação é denominada _stack traceback_ (situação da pilha de execução). No exemplo, podemos concluir que a chamada foi feita inicialmente o método `f0`, que depois chamou o método `f1`, onde ocorreu a erro e foi levanta a exceção.\n"
   ]
  },
  {
   "cell_type": "markdown",
   "metadata": {},
   "source": [
    "## Tratamento de exceções\n",
    "\n",
    "É possível escrever programas que tratam exceções específicas. \n",
    "\n",
    "No exemplo seguinte pede-se dados ao utilizador um inteiro válido. Tente escrever o seu nome... o que acontece?"
   ]
  },
  {
   "cell_type": "code",
   "execution_count": null,
   "metadata": {
    "ExecuteTime": {
     "end_time": "2022-03-22T11:08:57.984378Z",
     "start_time": "2022-03-22T11:08:56.240960Z"
    }
   },
   "outputs": [],
   "source": [
    " while True:\n",
    "    x = int(input(\"Qual a sua idade: \"))"
   ]
  },
  {
   "cell_type": "markdown",
   "metadata": {},
   "source": [
    "Para prevenir podemos então criar um bloco que proteja o código"
   ]
  },
  {
   "cell_type": "code",
   "execution_count": null,
   "metadata": {
    "ExecuteTime": {
     "end_time": "2022-03-22T11:10:12.508585Z",
     "start_time": "2022-03-22T11:10:10.010292Z"
    }
   },
   "outputs": [],
   "source": [
    "while True:\n",
    "    try:\n",
    "        x = int(input(\"Qual a sua idade: \"))\n",
    "        break\n",
    "    except ValueError:\n",
    "        print(\"Oops!  Isso não é um número inteiro.  Tente de novo...\")\n",
    "\n",
    "print(x)"
   ]
  },
  {
   "cell_type": "markdown",
   "metadata": {},
   "source": [
    "A instrução `try` funciona da seguinte maneira:\n",
    "1. se tudo correr bem, o bloco de instruções entre as palavras reservadas `try` e `except` é executada.\n",
    "1. Se nenhuma exceção ocorrer, o bloco do `except` é ignorado e a execução do bloco do `try` é finalizada.\n",
    "1. Se ocorrer uma exceção durante a execução da cláusula `try`, as instruções remanescentes na cláusula são ignoradas. E.g., uma exceção na linha `x = int(input(\"Qual a sua idade: \"))` faz com que não seja executado comando `break`\n",
    "1. Se o tipo da exceção ocorrida tiver sido previsto em algum `except`, então essa cláusula será executada. Depois disso, a execução continua após a instrução `try... except...`.\n",
    "1. Se a exceção levantada não corresponder a nenhuma exceção listada na cláusula de exceção, então é entregue a uma instrução `try` mais externa. Se não existir nenhum tratador previsto para tal exceção, trata-se de uma exceção não tratada e a execução do programa termina com uma mensagem de erro.\n",
    "1. A instrução `try` pode ter uma ou mais cláusula de exceção, para especificar múltiplos tratadores para diferentes exceções. No máximo um único \"tratador\" será executado. Tratadores só são sensíveis às exceções levantadas no interior da cláusula de tentativa, e não às que tenham ocorrido no interior de outro tratador numa mesma instrução try. Um tratador pode ser sensível a múltiplas exceções, desde que sejam especificadas num tuplo."
   ]
  },
  {
   "cell_type": "markdown",
   "metadata": {},
   "source": [
    "## Exemplo\n",
    "\n",
    "o código que se segue não está protegido para a ocorrência de exceções"
   ]
  },
  {
   "cell_type": "code",
   "execution_count": null,
   "metadata": {
    "ExecuteTime": {
     "end_time": "2022-03-22T11:13:45.343486Z",
     "start_time": "2022-03-22T11:13:45.331119Z"
    }
   },
   "outputs": [],
   "source": [
    "f = open('myfile.txt') # o nome do ficheiro é my_file.txt\n",
    "s = f.readline()\n",
    "i = int(s.strip())"
   ]
  },
  {
   "cell_type": "markdown",
   "metadata": {},
   "source": [
    "Neste caso podemos fazer o seguinte: \n",
    "1. sem que o ficheiro myfile.txt exista\n",
    "2. Crie o ficheiro `my_file.txt`\n",
    "  1. preencha-o com a sua idade e corra a célula\n",
    "  1. preencha-o com o seu nome e corra a célula\n",
    "  1. mude o nome do ficheiro para `meu_fich.txt`  e corra a célula "
   ]
  },
  {
   "cell_type": "code",
   "execution_count": null,
   "metadata": {
    "ExecuteTime": {
     "end_time": "2022-03-22T11:20:12.365800Z",
     "start_time": "2022-03-22T11:20:12.362219Z"
    }
   },
   "outputs": [],
   "source": [
    "import sys\n",
    "\n",
    "try:\n",
    "    f = open('my_file.txt')\n",
    "    s = f.readline()\n",
    "    i = int(s.strip())\n",
    "    print(\"inserido o número intereiro\", i)\n",
    "except FileNotFoundError as err:\n",
    "    print(\"FileNotFoundError : Erro!: {0}\".format(err))\n",
    "except ValueError:\n",
    "    print(f'ValueError: Não consigo converter \"{s}\" para inteiro.')\n",
    "except:\n",
    "    print(\"Outro erro: Unexpected error:\", sys.exc_info()[0])"
   ]
  },
  {
   "cell_type": "markdown",
   "metadata": {},
   "source": [
    "## Clausula `else`"
   ]
  },
  {
   "cell_type": "markdown",
   "metadata": {},
   "source": [
    "A construção `try ... except` possui uma cláusula `else` opcional, que quando presente, deve ser colocada depois de todas as outras cláusulas. É útil para um código que precisa ser executado se nenhuma exceção foi levantada. Por exemplo:"
   ]
  },
  {
   "cell_type": "code",
   "execution_count": null,
   "metadata": {
    "ExecuteTime": {
     "end_time": "2022-03-22T11:24:57.123746Z",
     "start_time": "2022-03-22T11:24:57.117224Z"
    }
   },
   "outputs": [],
   "source": [
    "for arg in sys.argv[1:]:\n",
    "    try:\n",
    "        f = open(arg, 'r')\n",
    "    except OSError:\n",
    "        print('cannot open', arg)\n",
    "    else:\n",
    "        print(arg, 'has', len(f.readlines()), 'lines')\n",
    "        f.close()"
   ]
  },
  {
   "cell_type": "markdown",
   "metadata": {},
   "source": [
    "## Argumentos da exceção\n",
    "\n",
    "Quando uma exceção ocorre, ela pode estar associada a um valor chamado argumento da exceção. A presença e o tipo do argumento dependem do tipo da exceção.\n",
    "\n",
    "A cláusula `except` pode especificar uma variável depois do nome (ou da tupla de nomes) da exceção, `e`. A variável é associada à instância de exceção capturada, com os argumentos armazenados em `e.args* . Por conveniência, a instância define o método __str__() para que os argumentos possam ser exibidos diretamente sem necessidade de acessar .args. Pode-se também instanciar uma exceção antes de levantá-la e adicionar qualquer atributo."
   ]
  },
  {
   "cell_type": "code",
   "execution_count": null,
   "metadata": {
    "ExecuteTime": {
     "end_time": "2022-03-22T11:24:58.199489Z",
     "start_time": "2022-03-22T11:24:58.191407Z"
    }
   },
   "outputs": [],
   "source": [
    "try:\n",
    "    raise Exception('spam', 'eggs')\n",
    "except Exception as e:\n",
    "    print(type(e))    # a instancia da excexao\n",
    "    print(e.args)     # argumentos armazenados em \".args\"\n",
    "    print(e)          # __str__ está implementado...\n",
    "    \n",
    "    x, y = e.args     # unpack args\n",
    "    print('x =', x)\n",
    "    print('y =', y)"
   ]
  },
  {
   "cell_type": "markdown",
   "metadata": {},
   "source": [
    "## Levantando exceções\n",
    "\n",
    "A instrução raise permite ao programador forçar a ocorrência de um determinado tipo de exceção. \n"
   ]
  },
  {
   "cell_type": "code",
   "execution_count": null,
   "metadata": {
    "ExecuteTime": {
     "end_time": "2022-03-22T11:25:47.424066Z",
     "start_time": "2022-03-22T11:25:47.421565Z"
    }
   },
   "outputs": [],
   "source": [
    "try:\n",
    "    raise NameError('Ola...!')\n",
    "except NameError:\n",
    "    print('Passou por aqui uma excecao!')"
   ]
  },
  {
   "cell_type": "markdown",
   "metadata": {},
   "source": [
    "## Finalmente o `finally`!\n",
    "\n",
    "A instrução `try` possui outra cláusula opcional, cuja finalidade é permitir a implementação de ações de limpeza, que **sempre devem ser executadas independentemente da ocorrência de exceções**. \n",
    "\n",
    "Se uma cláusula `finally` estiver presente, esta será executada como a última tarefa antes da conclusão da instrução `try`. \n"
   ]
  },
  {
   "cell_type": "code",
   "execution_count": null,
   "metadata": {
    "ExecuteTime": {
     "end_time": "2022-03-22T11:26:19.904792Z",
     "start_time": "2022-03-22T11:26:19.901542Z"
    }
   },
   "outputs": [],
   "source": [
    "def divide(x, y):\n",
    "    try:\n",
    "        result = x / y\n",
    "    except ZeroDivisionError:\n",
    "        print(\"erro: divisão por zero!\")\n",
    "    else:\n",
    "        print(\"o resultado é\", result)\n",
    "        return result\n",
    "    finally:\n",
    "        print(\"... e agora, independentemente do que aconteça, cá vou eu!!\")"
   ]
  },
  {
   "cell_type": "code",
   "execution_count": null,
   "metadata": {
    "ExecuteTime": {
     "end_time": "2022-03-22T11:26:20.955831Z",
     "start_time": "2022-03-22T11:26:20.946763Z"
    }
   },
   "outputs": [],
   "source": [
    "x = divide(1, 2)\n",
    "x"
   ]
  },
  {
   "cell_type": "code",
   "execution_count": null,
   "metadata": {
    "ExecuteTime": {
     "end_time": "2022-03-22T11:26:25.808392Z",
     "start_time": "2022-03-22T11:26:25.805222Z"
    }
   },
   "outputs": [],
   "source": [
    "divide(1, 0)"
   ]
  },
  {
   "cell_type": "markdown",
   "metadata": {},
   "source": [
    "### O exemplo dos ficheiros\n",
    "\n",
    "Não nos devemos esquecer de fechar os \"`open`\" que vamos fazendo, logo podemos/devemos colocar o clode no bloco `finally`"
   ]
  },
  {
   "cell_type": "code",
   "execution_count": null,
   "metadata": {
    "ExecuteTime": {
     "end_time": "2022-03-22T11:27:23.136873Z",
     "start_time": "2022-03-22T11:27:23.132123Z"
    }
   },
   "outputs": [],
   "source": [
    "try:\n",
    "    f = open('my_file.txt')\n",
    "    s = f.readline()\n",
    "    i = int(s.strip())\n",
    "except OSError as err:\n",
    "    print(\"Erro!: {0}\".format(err))\n",
    "except : # não e boa politica mas e melhor que nada ;)\n",
    "    print(f'Não consigo converter \"{s}\" para inteiro.')\n",
    "finally:\n",
    "    # fecha o ficheiro, independentemente do que aconteça\n",
    "    print(\"f está fechado?:\", f.closed)    \n",
    "    f.close()\n",
    "    \n",
    "print(\"f está fechado?:\", f.closed)"
   ]
  },
  {
   "cell_type": "markdown",
   "metadata": {},
   "source": [
    "No caso dos ficheiros, como alternativa, podemos garantir que o ficheiro é fechado usando o `with`"
   ]
  },
  {
   "cell_type": "code",
   "execution_count": null,
   "metadata": {
    "ExecuteTime": {
     "end_time": "2022-03-22T11:56:08.880674Z",
     "start_time": "2022-03-22T11:56:08.876314Z"
    }
   },
   "outputs": [],
   "source": [
    "with open('my_file.txt') as f:\n",
    "    try:\n",
    "        s = f.readline()\n",
    "        i = int(s.strip())\n",
    "    except OSError as err:\n",
    "        print(\"Erro!: {0}\".format(err))\n",
    "    except : # não e boa politica mas e melhor que nada ;)\n",
    "        print(f'Não consigo converter \"{s}\" para inteiro.')\n",
    "\n",
    "print(\"f está fechado?:\", f.closed)"
   ]
  },
  {
   "cell_type": "markdown",
   "metadata": {},
   "source": [
    "## Exceções definidas pelo programador\n",
    "\n",
    "Programas podem definir novos tipos de exceções, através da criação de uma nova classe. Exceções devem ser derivadas da classe `Exception`, direta ou indiretamente (todas as exceções devem ser instâncias de uma classe derivada de BaseException). \n",
    "\n",
    "Classes de exceções podem ser definidas para fazer qualquer coisa que qualquer outra classe faz, mas em geral são bem simples, frequentemente oferecendo apenas alguns atributos que fornecem informações sobre o erro que ocorreu. Ao criar um módulo que pode gerar diversos erros, uma prática comum é criar uma classe base para as exceções definidas por aquele módulo, e as classes específicas para cada condição de erro como subclasses dela.\n"
   ]
  },
  {
   "cell_type": "code",
   "execution_count": null,
   "metadata": {
    "ExecuteTime": {
     "end_time": "2022-03-22T12:36:42.301284Z",
     "start_time": "2022-03-22T12:36:42.295222Z"
    }
   },
   "outputs": [],
   "source": [
    "class Error(Exception):\n",
    "    \"\"\"Base class for exceptions in this module.\"\"\"\n",
    "    pass\n",
    "\n",
    "class InputError(Error):\n",
    "    \"\"\"Exception raised for errors in the input.\n",
    "\n",
    "    Attributes:\n",
    "        expression -- input expression in which the error occurred\n",
    "        message -- explanation of the error\n",
    "    \"\"\"\n",
    "\n",
    "    def __init__(self, expression, message):\n",
    "        self.expression = expression\n",
    "        self.message = message\n",
    "\n",
    "class TransitionError(Error):\n",
    "    \"\"\"Raised when an operation attempts a state transition that's not\n",
    "    allowed.\n",
    "\n",
    "    Attributes:\n",
    "        previous -- state at beginning of transition\n",
    "        next -- attempted new state\n",
    "        message -- explanation of why the specific transition is not allowed\n",
    "    \"\"\"\n",
    "\n",
    "    def __init__(self, previous, next, message):\n",
    "        self.previous = previous\n",
    "        self.next = next\n",
    "        self.message = message"
   ]
  },
  {
   "cell_type": "markdown",
   "metadata": {},
   "source": [
    "## Exercício\n",
    "\n",
    "Implemente uma classe Data"
   ]
  },
  {
   "cell_type": "code",
   "execution_count": null,
   "metadata": {
    "ExecuteTime": {
     "end_time": "2022-03-22T12:36:56.803132Z",
     "start_time": "2022-03-22T12:36:56.792306Z"
    }
   },
   "outputs": [],
   "source": [
    "class Data:\n",
    "    \"\"\" classe que implementa o armazenamento de uma data. \n",
    "    Se for instanciada com valores invalidos levanta uma excecao\"\"\"    \n",
    "\n",
    "\n",
    "    def __init__(self, a, m, d):\n",
    "        Data.valida(a, m, d) # levanta excecao em caso de erro\n",
    "        self.a, self.m, self.d = a, m, d\n",
    "\n",
    "    def __repr__(self):\n",
    "        return f'{self.a}/{self.m}/{self.d}'\n",
    "\n",
    "    @staticmethod\n",
    "    def valida(a, m, d):\n",
    "        ''' devolve True se a data e a/m/d valida. Caso contrario levante uma excecao adequada\n",
    "        :raises: \n",
    "            TypeError: se os valores a, m ou d nao forem inteiros, indicando qual\n",
    "            AnoInvalido: Nao existe ano 0 (xxx excecao a ser implementada pelo aluno xxxx)\n",
    "            MesInvalido: se m < 1 ou m > 12\n",
    "            DiaInvalido: o mes m nao tem dia d\n",
    "        '''\n",
    "        raise Exception(\"To-do\")\n",
    "        \n",
    "d = Data(\"2021\", 4, 6)"
   ]
  },
  {
   "cell_type": "code",
   "execution_count": null,
   "metadata": {},
   "outputs": [],
   "source": [
    "d = Data(2021, 4, 6)\n",
    "d"
   ]
  },
  {
   "cell_type": "code",
   "execution_count": null,
   "metadata": {},
   "outputs": [],
   "source": [
    "d = Data(2021, 2, 30)\n",
    "d"
   ]
  },
  {
   "cell_type": "markdown",
   "metadata": {},
   "source": [
    "## conjunto do exceções pre-definidas (_builtin_)\n",
    "\n",
    "https://docs.python.org/pt-br/3/library/exceptions.html#bltin-exceptions\n"
   ]
  },
  {
   "cell_type": "markdown",
   "metadata": {},
   "source": [
    "## A clausula ` assert` \n",
    "Em computação, asserção (em inglês: assertion) é um predicado que é inserido no programa para verificar uma condição que o desenvolvedor supõe que seja verdadeira em determinado ponto."
   ]
  },
  {
   "cell_type": "code",
   "execution_count": null,
   "metadata": {
    "ExecuteTime": {
     "end_time": "2022-03-22T12:41:27.422178Z",
     "start_time": "2022-03-22T12:41:27.419726Z"
    }
   },
   "outputs": [],
   "source": [
    "a = 1\n",
    "assert isinstance(a, int)\n",
    "print(\"ok\")"
   ]
  },
  {
   "cell_type": "code",
   "execution_count": null,
   "metadata": {
    "ExecuteTime": {
     "end_time": "2022-03-22T12:41:28.726242Z",
     "start_time": "2022-03-22T12:41:28.714970Z"
    }
   },
   "outputs": [],
   "source": [
    "a = 1.0\n",
    "assert isinstance(a, int)\n",
    "print(\"ok\")"
   ]
  },
  {
   "cell_type": "code",
   "execution_count": null,
   "metadata": {
    "ExecuteTime": {
     "end_time": "2022-03-22T12:41:36.592977Z",
     "start_time": "2022-03-22T12:41:36.587050Z"
    }
   },
   "outputs": [],
   "source": [
    "idade_filho = 18\n",
    "idade_mae = 4\n",
    "assert idade_filho < idade_mae, \"erro: idades invalidas\"\n"
   ]
  },
  {
   "cell_type": "code",
   "execution_count": null,
   "metadata": {
    "ExecuteTime": {
     "end_time": "2022-03-22T12:41:44.086212Z",
     "start_time": "2022-03-22T12:41:44.082646Z"
    }
   },
   "outputs": [],
   "source": [
    "try:\n",
    "    idade_filho = 18\n",
    "    idade_mae = 4\n",
    "    assert idade_mae > idade_filho\n",
    "except AssertionError as e:\n",
    "    print(\"erro: idades invalidas\")\n",
    "    "
   ]
  },
  {
   "cell_type": "code",
   "execution_count": null,
   "metadata": {},
   "outputs": [],
   "source": []
  }
 ],
 "metadata": {
  "finalized": {
   "timestamp": 1647952932217,
   "trusted": true
  },
  "kernelspec": {
   "display_name": "Python 3 (ipykernel)",
   "language": "python",
   "name": "python3"
  },
  "language_info": {
   "codemirror_mode": {
    "name": "ipython",
    "version": 3
   },
   "file_extension": ".py",
   "mimetype": "text/x-python",
   "name": "python",
   "nbconvert_exporter": "python",
   "pygments_lexer": "ipython3",
   "version": "3.8.10"
  },
  "latex_envs": {
   "LaTeX_envs_menu_present": true,
   "autoclose": true,
   "autocomplete": true,
   "bibliofile": "references.bib",
   "cite_by": "apalike",
   "current_citInitial": 1,
   "eqLabelWithNumbers": false,
   "eqNumInitial": 1,
   "hotkeys": {
    "equation": "Ctrl-E",
    "itemize": "Ctrl-I"
   },
   "labels_anchors": false,
   "latex_user_defs": false,
   "report_style_numbering": true,
   "user_envs_cfg": false
  },
  "nbTranslate": {
   "displayLangs": [
    "*"
   ],
   "hotkey": "alt-t",
   "langInMainMenu": true,
   "sourceLang": "en",
   "targetLang": "fr",
   "useGoogleTranslate": true
  },
  "toc": {
   "base_numbering": 1,
   "nav_menu": {},
   "number_sections": true,
   "sideBar": true,
   "skip_h1_title": false,
   "title_cell": "Table of Contents",
   "title_sidebar": "Contents",
   "toc_cell": false,
   "toc_position": {},
   "toc_section_display": true,
   "toc_window_display": false
  },
  "varInspector": {
   "cols": {
    "lenName": 16,
    "lenType": 16,
    "lenVar": 40
   },
   "kernels_config": {
    "python": {
     "delete_cmd_postfix": "",
     "delete_cmd_prefix": "del ",
     "library": "var_list.py",
     "varRefreshCmd": "print(var_dic_list())"
    },
    "r": {
     "delete_cmd_postfix": ") ",
     "delete_cmd_prefix": "rm(",
     "library": "var_list.r",
     "varRefreshCmd": "cat(var_dic_list()) "
    }
   },
   "types_to_exclude": [
    "module",
    "function",
    "builtin_function_or_method",
    "instance",
    "_Feature"
   ],
   "window_display": false
  }
 },
 "nbformat": 4,
 "nbformat_minor": 2
}
