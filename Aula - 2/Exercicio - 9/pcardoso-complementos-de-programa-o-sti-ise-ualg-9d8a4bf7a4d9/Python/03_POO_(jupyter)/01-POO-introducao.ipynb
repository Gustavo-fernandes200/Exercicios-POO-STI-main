{
 "cells": [
  {
   "cell_type": "markdown",
   "metadata": {
    "slideshow": {
     "slide_type": "slide"
    }
   },
   "source": [
    "# Programação Orientada aos Objetos (POO) - parte I\n",
    "Pedro Cardoso\n",
    "\n",
    "(ISE/UAlg - pcardoso@ualg.pt)"
   ]
  },
  {
   "cell_type": "markdown",
   "metadata": {
    "cell_style": "center",
    "slideshow": {
     "slide_type": "slide"
    }
   },
   "source": [
    "## Introdução\n",
    "\n",
    "A orientação a objetos tenta gerir a complexidade inerente aos problemas do mundo real abstraindo o conhecimento relevante e **encapsulando-o** dentro de objetos.\n",
    "\n",
    "Na POO um programa de computador é conceptualizado como um **conjunto de objetos** que trabalham juntos para realizar uma tarefa.\n",
    "\n",
    "Cada objeto é uma parte do programa, interagindo com as outras partes de maneira específica e totalmente controlada."
   ]
  },
  {
   "cell_type": "markdown",
   "metadata": {
    "slideshow": {
     "slide_type": "subslide"
    }
   },
   "source": [
    "Na **visão da orientação a objetos, o mundo é composto por diversos objetos** que possuem um conjunto de **características e um comportamento bem definido**.\n",
    "        \n",
    "No paradigma POO definimos **abstrações dos objetos** reais existentes. \n",
    "\n",
    "Todo objeto possui as seguintes características:\n",
    " - **Estado**: conjunto de propriedades de um objeto (valores dos atributos).\n",
    " - **Comportamento**: conjunto de ações possíveis sobre o objeto (métodos da classe).\n",
    " - **Unicidade**: todo objeto é único (possui um endereço de memória)."
   ]
  },
  {
   "cell_type": "markdown",
   "metadata": {
    "slideshow": {
     "slide_type": "subslide"
    }
   },
   "source": [
    "## Classe\n",
    "\n",
    "Quando escrevemos um programa numa linguagem OO, não definimos objetos individuais. Em vez disso definimos as **classes** utilizadas para criar esses objetos.\n",
    "\n",
    "Podemos entender uma **classe** como um modelo ou como uma especificação para um conjunto de objetos, ou seja, a **descrição genérica dos objetos individuais** pertencentes a um dado conjunto. \n",
    "\n",
    "A partir de uma classe é possível **criar quantos objetos forem desejados**. \n",
    "\n",
    "**Uma classe define as características e o comportamento de um conjunto de objetos**. \n",
    "\n",
    "A criação de uma classe implica definir um **tipo de objeto** em termos de seus atributos (variáveis que conterão os dados) e seus métodos (funções que manipulam tais dados)."
   ]
  },
  {
   "cell_type": "markdown",
   "metadata": {
    "slideshow": {
     "slide_type": "subslide"
    }
   },
   "source": [
    "<span style=\"color:red\">**Definição**: Uma **classe** é uma componente de um programa que descreve a *estrutura* e o *comportamento* de um grupo de objetos semelhantes - isto é, as informações que caracterizam o estado desses objetos e as ações (ou operações) que eles podem realizar**\n",
    "</span>\n",
    "\n",
    "![alt text](dog_classes.png \"Classe\")"
   ]
  },
  {
   "cell_type": "markdown",
   "metadata": {},
   "source": [
    "## Declaração de uma classe\n",
    "A declaração de uma classe segue a estrutura        \n",
    "```Python\n",
    "class nome_da_classe:\n",
    "    declaracao dos atributos da classe\n",
    "    declaracao dos metodos da classe\n",
    "```\n"
   ]
  },
  {
   "cell_type": "markdown",
   "metadata": {
    "slideshow": {
     "slide_type": "slide"
    }
   },
   "source": [
    "Nesse contexto, a classe mais simples será "
   ]
  },
  {
   "cell_type": "code",
   "execution_count": null,
   "metadata": {
    "slideshow": {
     "slide_type": "subslide"
    }
   },
   "outputs": [],
   "source": [
    "class Classe:\n",
    "    pass"
   ]
  },
  {
   "cell_type": "markdown",
   "metadata": {},
   "source": [
    "Que podemos instanciar fazendo a seguinte declaração para criar um objeto da classe `Classe`"
   ]
  },
  {
   "cell_type": "code",
   "execution_count": null,
   "metadata": {},
   "outputs": [],
   "source": [
    "c = Classe()"
   ]
  },
  {
   "cell_type": "markdown",
   "metadata": {
    "slideshow": {
     "slide_type": "subslide"
    }
   },
   "source": [
    "`c` é um objeto do tipo `Classe`, ou seja, uma instância da classe `Classe`.\n",
    "A sua representação em memória é única e tem um conjunto de atributos e métodos que herdou da classe (`Object`). Mais à frente veremos o que é isto de \"herdar\"...\n",
    "\n",
    "A sua \"representação\" é dada por `<nome_da_classe> at <endereço de memória>`"
   ]
  },
  {
   "cell_type": "code",
   "execution_count": null,
   "metadata": {
    "slideshow": {
     "slide_type": "-"
    }
   },
   "outputs": [],
   "source": [
    "c"
   ]
  },
  {
   "cell_type": "markdown",
   "metadata": {},
   "source": [
    "\n",
    "A classe `Classe` tem um conjunto de atributos e métodos que herdou da classe (`Object`). Como já foi referido, mais à frente veremos o que é isto de \"herdar\"..."
   ]
  },
  {
   "cell_type": "code",
   "execution_count": null,
   "metadata": {
    "slideshow": {
     "slide_type": "subslide"
    }
   },
   "outputs": [],
   "source": [
    "dir(c)"
   ]
  },
  {
   "cell_type": "markdown",
   "metadata": {},
   "source": [
    "Por exemplo:\n",
    "- __class__ : devolve a classe do objeto\n",
    "- __dict__ : devolve um dicionário com os atributos do objeto\n",
    "- __dir__ : devolve a lista de atributos e métodos do objeto\n",
    "- __doc__ : devolve a documentação do objeto\n",
    "- __eq__ : permite comparar objetos\n",
    "- __hash__ : permite calcular o hash do objeto\n",
    "- __ne__ : permite comparar objetos\n",
    "- __repr__ : devolve a representação do objeto\n",
    "- __sizeof__ : devolve o tamanho do objeto\n",
    "- __str__ : devolve a representação do objeto\n",
    "\n",
    "\n",
    "Iremos ver alguns destes métodos mais à frente... se quiser testar algum pode fazer `c.__doc__` ou `c.__str__()`, p.e.:"
   ]
  },
  {
   "cell_type": "code",
   "execution_count": null,
   "metadata": {},
   "outputs": [],
   "source": [
    "c.__hash__()"
   ]
  },
  {
   "cell_type": "markdown",
   "metadata": {},
   "source": [
    "Cada objeto tem um `id` único que o identifica, e tal valor é devolvido pela função `id()`\n"
   ]
  },
  {
   "cell_type": "code",
   "execution_count": null,
   "metadata": {},
   "outputs": [],
   "source": [
    "id(c)"
   ]
  },
  {
   "cell_type": "markdown",
   "metadata": {},
   "source": [
    "Ou seja, o `id` de outras instâncias da classe (de outro objetos) deverão ser diferentes, como por exemplo:"
   ]
  },
  {
   "cell_type": "code",
   "execution_count": null,
   "metadata": {},
   "outputs": [],
   "source": [
    "outro_c = Classe()\n",
    "id(outro_c)"
   ]
  },
  {
   "cell_type": "markdown",
   "metadata": {
    "slideshow": {
     "slide_type": "slide"
    }
   },
   "source": [
    "## Inicialização dos objetos\n",
    "\n",
    "* Quando um **novo objeto é criado, o construtor da classe é executado**. Em Python, o construtor é um método especial, chamado `__new__()`. Após a chamada ao construtor, o método `__init__()` é chamado para inicializar a nova instância. \n",
    "\n",
    "* Este serve (deve ser usado) para definir **inicializar valores *default*** e obrigar à **introdução dos valores dos atributos da classe que são obrigatórios**.\n",
    "\n",
    "* Em Python, o método `__init__()` é o método que inicializa um objeto; é o método que é chamado quando um objeto é criado. "
   ]
  },
  {
   "cell_type": "code",
   "execution_count": null,
   "metadata": {},
   "outputs": [],
   "source": [
    "class Classe:\n",
    "    def __init__(self):  # self é uma referência ao próprio objeto, mais tarde veremos com mais detalhe...\n",
    "        pass"
   ]
  },
  {
   "cell_type": "markdown",
   "metadata": {
    "slideshow": {
     "slide_type": "slide"
    }
   },
   "source": [
    "## Exemplo: a classe Carro\n",
    "\n",
    "Para uma classe carro devemos considerar a \"funcionalidades\" comuns a todas...\n",
    "\n",
    "O que tem um carro de importante?\n",
    "* Nome do dono\n",
    "* Marca\n",
    "* Modelo\n",
    "* Consumo \n",
    "* Cor\n",
    "* Kms (percorridos)"
   ]
  },
  {
   "cell_type": "markdown",
   "metadata": {
    "slideshow": {
     "slide_type": "subslide"
    }
   },
   "source": [
    " O que todo o carro faz e é importante para nós? Isto é, o que gostaríamos de \"pedir a um carro\"?\n",
    "*  Definir Dono, Marca, Modelo, Consumo, Cor, Kms\n",
    "*  Adicionar Kms percorrigos\n",
    "*  Imprime o nome do dono, a cor, ...\n",
    "*  Devolve o nome do dono, os Kms, o consumo, ...\n",
    "*  ...\n",
    "\n",
    "Defina-se então a classe Carro com os referidos atributos"
   ]
  },
  {
   "cell_type": "code",
   "execution_count": null,
   "metadata": {
    "slideshow": {
     "slide_type": "subslide"
    }
   },
   "outputs": [],
   "source": [
    "class Carro:\n",
    "    def __init__(self, cor, marca, modelo, dono, consumo, kms):\n",
    "        self.cor = cor\n",
    "        self.marca = marca\n",
    "        self.modelo = modelo\n",
    "        self.dono = dono\n",
    "        self.consumo = consumo\n",
    "        self.kms = kms"
   ]
  },
  {
   "cell_type": "markdown",
   "metadata": {},
   "source": [
    "Podemos agora **instanciar um Carro**, ou seja, **criar um objeto da classe Carro**, usando a seguinte declaração"
   ]
  },
  {
   "cell_type": "code",
   "execution_count": null,
   "metadata": {
    "scrolled": true
   },
   "outputs": [],
   "source": [
    "carro_1 = Carro('Branca', 'Fiat', '500', 'Claudia', 6, 20000)\n",
    "carro_1"
   ]
  },
  {
   "cell_type": "markdown",
   "metadata": {
    "slideshow": {
     "slide_type": "subslide"
    }
   },
   "source": [
    "Podemos criar várias instâncias/objetos com o mesmo modelo/_template_ (classe)"
   ]
  },
  {
   "cell_type": "code",
   "execution_count": null,
   "metadata": {},
   "outputs": [],
   "source": [
    "carro_2 = Carro('Vermelha', 'Seat', 'Ibiza', 'Margarida', 5.4, 12000)\n",
    "carro_2"
   ]
  },
  {
   "cell_type": "markdown",
   "metadata": {
    "slideshow": {
     "slide_type": "subslide"
    }
   },
   "source": [
    "\n",
    "## Acesso aos atributos e métodos\n",
    "\n",
    "Para aceder aos atributos e métodos usamos \".\" (ponto):\n",
    "* `objeto.atributo`\n",
    "* `objeto.metodo`\n",
    "* `classe.atributo`\n",
    "* `classe.metodo`\n",
    "\n",
    "E podemos criar métodos que recebem instancia de Carro como parâmetro... De seguida podemo aceder aos atributos e métodos de um objeto usando a notação `objeto.atributo` e `objeto.metodo`"
   ]
  },
  {
   "cell_type": "code",
   "execution_count": null,
   "metadata": {
    "scrolled": true
   },
   "outputs": [],
   "source": [
    "def print_info(carro):\n",
    "    \"\"\"\n",
    "        Imprime informações detalhadas de um objeto carro.\n",
    "    \n",
    "        Esta função recebe um objeto 'carro' e imprime informações detalhadas sobre o mesmo. Além disso, calcula e exibe o total de combustível consumido pelo carro desde a sua compra, com base na quilometragem e no consumo.\n",
    "    \n",
    "        Parâmetros:\n",
    "        carro (objeto): Um objeto 'carro' que deve ter os seguintes atributos:\n",
    "                        - dono (str): O nome do dono do carro.\n",
    "                        - marca (str): A marca do carro.\n",
    "                        - modelo (str): O modelo do carro.\n",
    "                        - cor (str): A cor do carro.\n",
    "                        - consumo (float): O consumo de combustível do carro (em litros por 100 km).\n",
    "                        - kms (float): A quilometragem total percorrida pelo carro.\n",
    "    \"\"\"\n",
    "    print(f\"\"\"A {carro.dono} tem um {carro.marca} {carro.modelo} de cor {carro.cor} que gasta {carro.consumo}l/100Km e tem {carro.kms}kms. \n",
    "    Logo gastou {carro.kms / 100 * carro.consumo}l desde que o comprou.\"\"\")\n",
    "    \n",
    "print_info(carro_1)\n",
    "print_info(carro_2)"
   ]
  },
  {
   "cell_type": "markdown",
   "metadata": {},
   "source": [
    "E podemos alterar os atributos de um objeto usando a notação `objeto.atributo = novo_valor`"
   ]
  },
  {
   "cell_type": "code",
   "execution_count": null,
   "metadata": {},
   "outputs": [],
   "source": [
    "carro_1.cor = 'Preta'\n",
    "print_info(carro_1)"
   ]
  },
  {
   "cell_type": "markdown",
   "metadata": {
    "slideshow": {
     "slide_type": "subslide"
    }
   },
   "source": [
    "Em resumo:\n",
    "* Em Python os novos objetos são criados a partir das classes através de uma instanciação. \n",
    "* O objeto é uma instância da classe, que possui características próprias. "
   ]
  },
  {
   "cell_type": "markdown",
   "metadata": {
    "slideshow": {
     "slide_type": "slide"
    }
   },
   "source": [
    "## Referências a objetos\n",
    " \n",
    "Um objeto existe em memória enquanto existir pelo menos uma variável que o referência. \n",
    "     \n",
    "O interpretador de Python possui um recurso chamado coletor de lixo (_Garbage Collector_) que limpa da memória objetos sem referências. \n",
    "     \n",
    "Quando o objeto é apagado, o método especial `__done__()` é evocado. \n",
    "    \n",
    "Associado está o facto de podermos ter mais do que uma referência para o mesmo objeto"
   ]
  },
  {
   "cell_type": "code",
   "execution_count": null,
   "metadata": {
    "slideshow": {
     "slide_type": "subslide"
    }
   },
   "outputs": [],
   "source": [
    "# Vamos criar um carro\n",
    "carro_a = Carro('Branca', 'Fiat', '500', 'Claudia', 6, 20000)\n",
    "\n",
    "# e criar uma nova referência para o mesmo objeto, ou seja, carro_b e carro_a referênciam o mesmo objeto\n",
    "carro_b = carro_a "
   ]
  },
  {
   "cell_type": "markdown",
   "metadata": {},
   "source": [
    "`carro_a` e `carro_b` referênciam o mesmo objeto, o que se pode verificar comparando os seus `id`'s"
   ]
  },
  {
   "cell_type": "code",
   "execution_count": null,
   "metadata": {},
   "outputs": [],
   "source": [
    "id(carro_a) == id(carro_b)"
   ]
  },
  {
   "cell_type": "markdown",
   "metadata": {
    "slideshow": {
     "slide_type": "subslide"
    }
   },
   "source": [
    "Logo, se alterarmos um objeto... "
   ]
  },
  {
   "cell_type": "code",
   "execution_count": null,
   "metadata": {},
   "outputs": [],
   "source": [
    "carro_a.cor = 'Vermelha'"
   ]
  },
  {
   "cell_type": "markdown",
   "metadata": {},
   "source": [
    "as duas referências ficam alteradas..."
   ]
  },
  {
   "cell_type": "code",
   "execution_count": null,
   "metadata": {},
   "outputs": [],
   "source": [
    "carro_b.cor"
   ]
  },
  {
   "cell_type": "markdown",
   "metadata": {},
   "source": [
    "### Exercício\n",
    "\n",
    "Vá a http://www.pythontutor.com/visualize.html#mode=display\n",
    "\n",
    "Cole o seguinte código e \"visualize a execução\"\n",
    "```\n",
    "class Carro:\n",
    "    def __init__(self, cor, marca, modelo, dono, consumo, kms):\n",
    "        self.cor = cor\n",
    "        self.marca = marca\n",
    "        self.modelo = modelo\n",
    "        self.dono = dono\n",
    "        self.consumo = consumo\n",
    "        self.kms = kms\n",
    "        \n",
    "carro_1 = Carro('Branca', 'Fiat', '500', 'Claudia', 6, 20000)\n",
    "carro_2 = Carro('Vermelha', 'Seat', 'Ibiza', 'Margarida', 5.4, 12000)\n",
    "carro_b = carro_1\n",
    "carro_1.kms=30000\n",
    "print(carro_b.kms)\n",
    "```"
   ]
  },
  {
   "cell_type": "markdown",
   "metadata": {
    "slideshow": {
     "slide_type": "slide"
    }
   },
   "source": [
    "# O que é um objeto em Python?\n",
    "Afinal o que é um objeto em Python:\n",
    "* \"Tudo\" é um objeto, mesmo os tipos básicos, como números inteiros.\n",
    "* Tipos e classes são unificados.\n",
    "* Os operadores (e.g., +, -, ...) são na verdade chamadas para métodos especiais.\n",
    "* As classes são abertas (menos para os tipos _builtins_)."
   ]
  },
  {
   "cell_type": "code",
   "execution_count": null,
   "metadata": {},
   "outputs": [],
   "source": [
    "a = 10\n",
    "type(a)"
   ]
  },
  {
   "cell_type": "markdown",
   "metadata": {
    "ExecuteTime": {
     "end_time": "2020-02-11T15:57:25.651720Z",
     "start_time": "2020-02-11T15:57:25.646728Z"
    }
   },
   "source": [
    "Quais são os métodos de um inteiro?"
   ]
  },
  {
   "cell_type": "code",
   "execution_count": null,
   "metadata": {
    "slideshow": {
     "slide_type": "subslide"
    }
   },
   "outputs": [],
   "source": [
    "print(dir(a))"
   ]
  },
  {
   "cell_type": "markdown",
   "metadata": {
    "ExecuteTime": {
     "end_time": "2020-02-11T15:57:48.658515Z",
     "start_time": "2020-02-11T15:57:48.654505Z"
    }
   },
   "source": [
    "Podemos saber o que fazem usando o método `help`"
   ]
  },
  {
   "cell_type": "code",
   "execution_count": null,
   "metadata": {},
   "outputs": [],
   "source": [
    "help(a.__pow__)"
   ]
  },
  {
   "cell_type": "markdown",
   "metadata": {},
   "source": [
    "Assim, como podemos chamá-los diretamente"
   ]
  },
  {
   "cell_type": "code",
   "execution_count": null,
   "metadata": {},
   "outputs": [],
   "source": [
    "# será o mesmo que a**3\n",
    "a.__pow__(3)"
   ]
  },
  {
   "cell_type": "markdown",
   "metadata": {
    "slideshow": {
     "slide_type": "slide"
    }
   },
   "source": [
    "## Métodos\n",
    "Mais do que atributos podemos definir comportamentos comuns aos objetos da classe `Carro` declarando \"funções\" a que chamamos *métodos*\n",
    "* Os métodos recebem argumentos/parâmetros\n",
    "* Podemos ainda definir variáveis locais dentro do método. \n",
    "* Tanto as variáveis definidas nos métodos como os argumentos têm âmbito/_scope_ que se restringe ao método. \n",
    "* De uma forma geral (e veremos que há exceções), estes métodos recebem um argumento (usualmente chamado) `self` que é uma referência ao próprio objeto. Não se esqueçam de a colocar...\n",
    "        "
   ]
  },
  {
   "cell_type": "code",
   "execution_count": null,
   "metadata": {},
   "outputs": [],
   "source": [
    "class Carro:\n",
    "    def __init__(self, cor, marca, modelo, dono, consumo, kms):\n",
    "        self.cor = cor\n",
    "        self.marca = marca\n",
    "        self.modelo = modelo\n",
    "        self.dono = dono\n",
    "        self.consumo = consumo\n",
    "        self.kms = kms\n",
    "    \n",
    "    def print_info(self):\n",
    "        print(f\"\"\"A {self.dono} tem um {self.marca} {self.modelo} de cor {self.cor} que gasta {self.consumo}l/100Km e tem {self.kms}kms. Logo gastou {self.kms / 100 * self.consumo}l desde que o comprou.\"\"\")"
   ]
  },
  {
   "cell_type": "markdown",
   "metadata": {},
   "source": [
    "Criemos de novo um carro e invoquemos o método `print_info`"
   ]
  },
  {
   "cell_type": "code",
   "execution_count": null,
   "metadata": {
    "slideshow": {
     "slide_type": "subslide"
    }
   },
   "outputs": [],
   "source": [
    "carro_a = Carro('Branca', 'Fiat', '500', 'Claudia', 6, 20000)"
   ]
  },
  {
   "cell_type": "markdown",
   "metadata": {},
   "source": [
    "Para invocar o método usamos o \".\" (ponto)"
   ]
  },
  {
   "cell_type": "code",
   "execution_count": null,
   "metadata": {},
   "outputs": [],
   "source": [
    "carro_a.print_info()"
   ]
  },
  {
   "cell_type": "markdown",
   "metadata": {
    "slideshow": {
     "slide_type": "slide"
    },
    "solution": "hidden",
    "solution2": "hidden",
    "solution2_first": true,
    "solution_first": true
   },
   "source": [
    "###### Exercício\n",
    "Implemente na classe Carro um método que calcula e devolve o consumo total do Carro desde que foi comprado (tendo em conta a média e os kms percorridos)"
   ]
  },
  {
   "cell_type": "code",
   "execution_count": 4,
   "metadata": {
    "solution": "hidden",
    "solution2": "hidden"
   },
   "outputs": [
    {
     "ename": "AttributeError",
     "evalue": "'Carro' object has no attribute 'consumos'",
     "output_type": "error",
     "traceback": [
      "\u001b[1;31m---------------------------------------------------------------------------\u001b[0m",
      "\u001b[1;31mAttributeError\u001b[0m                            Traceback (most recent call last)",
      "Cell \u001b[1;32mIn[4], line 18\u001b[0m\n\u001b[0;32m     15\u001b[0m         \u001b[38;5;28;01mreturn\u001b[39;00m \u001b[38;5;28mself\u001b[39m\u001b[38;5;241m.\u001b[39mconsumos \u001b[38;5;241m*\u001b[39m \u001b[38;5;28mself\u001b[39m\u001b[38;5;241m.\u001b[39mkms \u001b[38;5;241m/\u001b[39m \u001b[38;5;241m100\u001b[39m \n\u001b[0;32m     17\u001b[0m carro_a \u001b[38;5;241m=\u001b[39m Carro(\u001b[38;5;124m'\u001b[39m\u001b[38;5;124mBranca\u001b[39m\u001b[38;5;124m'\u001b[39m, \u001b[38;5;124m'\u001b[39m\u001b[38;5;124mFiat\u001b[39m\u001b[38;5;124m'\u001b[39m, \u001b[38;5;124m'\u001b[39m\u001b[38;5;124m500\u001b[39m\u001b[38;5;124m'\u001b[39m, \u001b[38;5;124m'\u001b[39m\u001b[38;5;124mClaudia\u001b[39m\u001b[38;5;124m'\u001b[39m, \u001b[38;5;241m6\u001b[39m, \u001b[38;5;241m20000\u001b[39m)\n\u001b[1;32m---> 18\u001b[0m carro_a\u001b[38;5;241m.\u001b[39mconsumo_total()\n",
      "Cell \u001b[1;32mIn[4], line 15\u001b[0m, in \u001b[0;36mCarro.consumo_total\u001b[1;34m(self)\u001b[0m\n\u001b[0;32m     14\u001b[0m \u001b[38;5;28;01mdef\u001b[39;00m \u001b[38;5;21mconsumo_total\u001b[39m(\u001b[38;5;28mself\u001b[39m):\n\u001b[1;32m---> 15\u001b[0m     \u001b[38;5;28;01mreturn\u001b[39;00m \u001b[38;5;28mself\u001b[39m\u001b[38;5;241m.\u001b[39mconsumos \u001b[38;5;241m*\u001b[39m \u001b[38;5;28mself\u001b[39m\u001b[38;5;241m.\u001b[39mkms \u001b[38;5;241m/\u001b[39m \u001b[38;5;241m100\u001b[39m\n",
      "\u001b[1;31mAttributeError\u001b[0m: 'Carro' object has no attribute 'consumos'"
     ]
    }
   ],
   "source": [
    "class Carro:\n",
    "    def __init__(self, cor, marca, modelo, dono, consumo, kms):\n",
    "        self.cor = cor\n",
    "        self.marca = marca\n",
    "        self.modelo = modelo\n",
    "        self.dono = dono\n",
    "        self.consumo = consumo\n",
    "        self.kms = kms\n",
    "    \n",
    "    def print_info(self):\n",
    "        print('A {} tem um {} {} que gasta {}l/100Km e tem {}kms.'.format(\n",
    "            self.dono, self.marca, self.modelo, self.consumo, self.kms))\n",
    "    \n",
    "    def consumo_total(self):\n",
    "        return self.consumos * self.kms / 100 \n",
    "\n",
    "carro_a = Carro('Branca', 'Fiat', '500', 'Claudia', 6, 20000)\n",
    "carro_a.consumo_total()"
   ]
  },
  {
   "cell_type": "code",
   "execution_count": null,
   "metadata": {},
   "outputs": [],
   "source": []
  },
  {
   "cell_type": "code",
   "execution_count": null,
   "metadata": {},
   "outputs": [],
   "source": []
  },
  {
   "cell_type": "code",
   "execution_count": null,
   "metadata": {},
   "outputs": [],
   "source": []
  },
  {
   "cell_type": "code",
   "execution_count": null,
   "metadata": {},
   "outputs": [],
   "source": []
  },
  {
   "cell_type": "code",
   "execution_count": null,
   "metadata": {},
   "outputs": [],
   "source": []
  }
 ],
 "metadata": {
  "celltoolbar": "Raw Cell Format",
  "kernelspec": {
   "display_name": "Python 3 (ipykernel)",
   "language": "python",
   "name": "python3"
  },
  "language_info": {
   "codemirror_mode": {
    "name": "ipython",
    "version": 3
   },
   "file_extension": ".py",
   "mimetype": "text/x-python",
   "name": "python",
   "nbconvert_exporter": "python",
   "pygments_lexer": "ipython3",
   "version": "3.11.5"
  },
  "latex_envs": {
   "LaTeX_envs_menu_present": true,
   "autoclose": false,
   "autocomplete": true,
   "bibliofile": "biblio.bib",
   "cite_by": "apalike",
   "current_citInitial": 1,
   "eqLabelWithNumbers": true,
   "eqNumInitial": 1,
   "hotkeys": {
    "equation": "Ctrl-E",
    "itemize": "Ctrl-I"
   },
   "labels_anchors": false,
   "latex_user_defs": false,
   "report_style_numbering": true,
   "user_envs_cfg": true
  },
  "nbTranslate": {
   "displayLangs": [
    "*"
   ],
   "hotkey": "alt-t",
   "langInMainMenu": true,
   "sourceLang": "en",
   "targetLang": "fr",
   "useGoogleTranslate": true
  },
  "toc": {
   "base_numbering": 1,
   "nav_menu": {},
   "number_sections": true,
   "sideBar": true,
   "skip_h1_title": false,
   "title_cell": "Table of Contents",
   "title_sidebar": "Contents",
   "toc_cell": false,
   "toc_position": {
    "height": "calc(100% - 180px)",
    "left": "10px",
    "top": "150px",
    "width": "165px"
   },
   "toc_section_display": true,
   "toc_window_display": false
  },
  "varInspector": {
   "cols": {
    "lenName": 16,
    "lenType": 16,
    "lenVar": 40
   },
   "kernels_config": {
    "python": {
     "delete_cmd_postfix": "",
     "delete_cmd_prefix": "del ",
     "library": "var_list.py",
     "varRefreshCmd": "print(var_dic_list())"
    },
    "r": {
     "delete_cmd_postfix": ") ",
     "delete_cmd_prefix": "rm(",
     "library": "var_list.r",
     "varRefreshCmd": "cat(var_dic_list()) "
    }
   },
   "types_to_exclude": [
    "module",
    "function",
    "builtin_function_or_method",
    "instance",
    "_Feature"
   ],
   "window_display": false
  }
 },
 "nbformat": 4,
 "nbformat_minor": 2
}
