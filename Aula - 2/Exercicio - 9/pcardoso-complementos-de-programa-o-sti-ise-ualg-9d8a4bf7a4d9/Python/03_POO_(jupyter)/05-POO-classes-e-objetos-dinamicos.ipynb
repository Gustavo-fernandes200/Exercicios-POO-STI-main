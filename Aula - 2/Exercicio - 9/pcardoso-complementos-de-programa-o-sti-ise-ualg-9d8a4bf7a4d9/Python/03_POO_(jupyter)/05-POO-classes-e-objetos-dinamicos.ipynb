{
 "cells": [
  {
   "cell_type": "markdown",
   "metadata": {
    "slideshow": {
     "slide_type": "slide"
    }
   },
   "source": [
    "# Programação Orientada aos Objetos (POO) - parte V\n",
    "Pedro Cardoso\n",
    "\n",
    "(ISE/UAlg - pcardoso@ualg.pt)"
   ]
  },
  {
   "cell_type": "markdown",
   "metadata": {
    "slideshow": {
     "slide_type": "slide"
    }
   },
   "source": [
    "## Classe são \"abertas\"\n",
    "* Em Python as classes que não são _builtins_ podem ser alteradas em tempo de execução, devido a natureza dinâmica da linguagem, i.e., por exemplo, é possível acrescentar métodos e atributos novos. A mesma lógica se aplica aos objetos."
   ]
  },
  {
   "cell_type": "code",
   "execution_count": null,
   "metadata": {
    "ExecuteTime": {
     "end_time": "2022-03-08T12:12:56.057600Z",
     "start_time": "2022-03-08T12:12:56.054686Z"
    },
    "slideshow": {
     "slide_type": "subslide"
    }
   },
   "outputs": [],
   "source": [
    "class Carro:\n",
    "    def __init__(self, cor, marca):\n",
    "        self.cor = cor \n",
    "        self.marca = marca"
   ]
  },
  {
   "cell_type": "markdown",
   "metadata": {},
   "source": [
    "Comecemos por criar uma instância"
   ]
  },
  {
   "cell_type": "code",
   "execution_count": null,
   "metadata": {
    "ExecuteTime": {
     "end_time": "2022-03-08T12:13:33.503795Z",
     "start_time": "2022-03-08T12:13:33.501062Z"
    }
   },
   "outputs": [],
   "source": [
    "carro_0 = Carro('Vermelha', 'Opel')\n",
    "print(carro_0.__dict__)"
   ]
  },
  {
   "cell_type": "markdown",
   "metadata": {
    "ExecuteTime": {
     "end_time": "2022-03-08T12:11:27.454949Z",
     "start_time": "2022-03-08T12:11:27.451732Z"
    }
   },
   "source": [
    "Podemos juntar um novo atributo à classe"
   ]
  },
  {
   "cell_type": "code",
   "execution_count": null,
   "metadata": {
    "ExecuteTime": {
     "end_time": "2022-03-08T12:13:45.151258Z",
     "start_time": "2022-03-08T12:13:45.149240Z"
    }
   },
   "outputs": [],
   "source": [
    "Carro.ano = 1970  # variavel da classe!"
   ]
  },
  {
   "cell_type": "markdown",
   "metadata": {},
   "source": [
    "e agora criar uma instância de Carro (tem o atributo de classe ano), i.e., não é atributo de instância"
   ]
  },
  {
   "cell_type": "code",
   "execution_count": null,
   "metadata": {
    "ExecuteTime": {
     "end_time": "2022-03-08T12:15:41.723961Z",
     "start_time": "2022-03-08T12:15:41.720893Z"
    },
    "slideshow": {
     "slide_type": "subslide"
    }
   },
   "outputs": [],
   "source": [
    "carro_1 = Carro('Vermelha', 'Fiat')\n",
    "print(carro_1.__dict__)"
   ]
  },
  {
   "cell_type": "markdown",
   "metadata": {},
   "source": [
    "vejamos que tem o atributo \"ano\" (que é da classe)"
   ]
  },
  {
   "cell_type": "code",
   "execution_count": null,
   "metadata": {
    "ExecuteTime": {
     "end_time": "2022-03-08T12:15:59.598540Z",
     "start_time": "2022-03-08T12:15:59.596370Z"
    }
   },
   "outputs": [],
   "source": [
    "print(dir(carro_1))"
   ]
  },
  {
   "cell_type": "markdown",
   "metadata": {},
   "source": [
    "tal como a instância `carro_0` criada antes"
   ]
  },
  {
   "cell_type": "code",
   "execution_count": null,
   "metadata": {
    "ExecuteTime": {
     "end_time": "2022-03-08T12:16:21.727481Z",
     "start_time": "2022-03-08T12:16:21.724374Z"
    }
   },
   "outputs": [],
   "source": [
    "print(dir(carro_0))"
   ]
  },
  {
   "cell_type": "markdown",
   "metadata": {
    "slideshow": {
     "slide_type": "subslide"
    }
   },
   "source": [
    "Do mesmo modo, podemo adicionar novos métodos em à classe em _runtime_"
   ]
  },
  {
   "cell_type": "code",
   "execution_count": null,
   "metadata": {
    "ExecuteTime": {
     "end_time": "2022-03-08T12:18:35.708376Z",
     "start_time": "2022-03-08T12:18:35.705643Z"
    }
   },
   "outputs": [],
   "source": [
    "def my_repr(self):\n",
    "    print(f'{self.marca} de cor {self.cor} do ano {self.ano}.')\n",
    "\n",
    "Carro.print = my_repr"
   ]
  },
  {
   "cell_type": "code",
   "execution_count": null,
   "metadata": {
    "ExecuteTime": {
     "end_time": "2022-03-08T12:18:36.341673Z",
     "start_time": "2022-03-08T12:18:36.336315Z"
    }
   },
   "outputs": [],
   "source": [
    "print(dir(Carro)) # tem o metodo print"
   ]
  },
  {
   "cell_type": "markdown",
   "metadata": {},
   "source": [
    "e chamá-los"
   ]
  },
  {
   "cell_type": "code",
   "execution_count": null,
   "metadata": {
    "ExecuteTime": {
     "end_time": "2022-03-08T12:18:44.197214Z",
     "start_time": "2022-03-08T12:18:44.195005Z"
    }
   },
   "outputs": [],
   "source": [
    "carro_0.print()\n",
    "carro_1.print()"
   ]
  },
  {
   "cell_type": "markdown",
   "metadata": {},
   "source": [
    "estando também disponível para novas instâncias"
   ]
  },
  {
   "cell_type": "code",
   "execution_count": null,
   "metadata": {
    "ExecuteTime": {
     "end_time": "2022-03-08T12:19:22.049820Z",
     "start_time": "2022-03-08T12:19:22.047237Z"
    },
    "slideshow": {
     "slide_type": "subslide"
    }
   },
   "outputs": [],
   "source": [
    "carro_2 = Carro('vermelha', 'Fiat')\n",
    "carro_2.print()"
   ]
  },
  {
   "cell_type": "markdown",
   "metadata": {},
   "source": [
    "No entanto, também podemos ter atributos que são só de instâncias particulares"
   ]
  },
  {
   "cell_type": "code",
   "execution_count": null,
   "metadata": {
    "ExecuteTime": {
     "end_time": "2022-03-08T12:20:06.372253Z",
     "start_time": "2022-03-08T12:20:06.368907Z"
    },
    "slideshow": {
     "slide_type": "subslide"
    }
   },
   "outputs": [],
   "source": [
    "carro_2.dono = 'Margarida'   # \n",
    "print(carro_2.__dict__)"
   ]
  },
  {
   "cell_type": "code",
   "execution_count": null,
   "metadata": {
    "ExecuteTime": {
     "end_time": "2022-03-08T12:20:31.721129Z",
     "start_time": "2022-03-08T12:20:31.717982Z"
    },
    "slideshow": {
     "slide_type": "subslide"
    }
   },
   "outputs": [],
   "source": [
    "carro_2.dono"
   ]
  },
  {
   "cell_type": "markdown",
   "metadata": {},
   "source": [
    "Mas preparem-se par ao erro"
   ]
  },
  {
   "cell_type": "code",
   "execution_count": null,
   "metadata": {
    "ExecuteTime": {
     "end_time": "2022-03-08T12:20:40.909957Z",
     "start_time": "2022-03-08T12:20:40.903346Z"
    },
    "slideshow": {
     "slide_type": "subslide"
    }
   },
   "outputs": [],
   "source": [
    "carro_1.dono  # "
   ]
  },
  {
   "cell_type": "markdown",
   "metadata": {},
   "source": [
    "pois carro_1 não tem o atributo dono"
   ]
  },
  {
   "cell_type": "code",
   "execution_count": null,
   "metadata": {
    "ExecuteTime": {
     "end_time": "2022-03-08T12:20:52.495919Z",
     "start_time": "2022-03-08T12:20:52.493630Z"
    }
   },
   "outputs": [],
   "source": [
    "print(carro_1.__dict__)"
   ]
  }
 ],
 "metadata": {
  "kernelspec": {
   "display_name": "Python 3",
   "language": "python",
   "name": "python3"
  },
  "language_info": {
   "codemirror_mode": {
    "name": "ipython",
    "version": 3
   },
   "file_extension": ".py",
   "mimetype": "text/x-python",
   "name": "python",
   "nbconvert_exporter": "python",
   "pygments_lexer": "ipython3",
   "version": "3.9.7"
  },
  "nbTranslate": {
   "displayLangs": [
    "*"
   ],
   "hotkey": "alt-t",
   "langInMainMenu": true,
   "sourceLang": "en",
   "targetLang": "fr",
   "useGoogleTranslate": true
  },
  "toc": {
   "base_numbering": 1,
   "nav_menu": {},
   "number_sections": true,
   "sideBar": true,
   "skip_h1_title": false,
   "title_cell": "Table of Contents",
   "title_sidebar": "Contents",
   "toc_cell": false,
   "toc_position": {},
   "toc_section_display": true,
   "toc_window_display": false
  },
  "varInspector": {
   "cols": {
    "lenName": 16,
    "lenType": 16,
    "lenVar": 40
   },
   "kernels_config": {
    "python": {
     "delete_cmd_postfix": "",
     "delete_cmd_prefix": "del ",
     "library": "var_list.py",
     "varRefreshCmd": "print(var_dic_list())"
    },
    "r": {
     "delete_cmd_postfix": ") ",
     "delete_cmd_prefix": "rm(",
     "library": "var_list.r",
     "varRefreshCmd": "cat(var_dic_list()) "
    }
   },
   "types_to_exclude": [
    "module",
    "function",
    "builtin_function_or_method",
    "instance",
    "_Feature"
   ],
   "window_display": false
  }
 },
 "nbformat": 4,
 "nbformat_minor": 2
}
