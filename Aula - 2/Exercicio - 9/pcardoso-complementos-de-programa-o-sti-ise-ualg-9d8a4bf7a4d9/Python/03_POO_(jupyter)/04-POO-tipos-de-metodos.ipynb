{
 "cells": [
  {
   "cell_type": "markdown",
   "metadata": {
    "slideshow": {
     "slide_type": "slide"
    }
   },
   "source": [
    "# Programação Orientada aos Objetos (POO) - parte IV\n",
    "Pedro Cardoso\n",
    "\n",
    "(ISE/UAlg - pcardoso@ualg.pt)"
   ]
  },
  {
   "cell_type": "markdown",
   "metadata": {
    "slideshow": {
     "slide_type": "slide"
    }
   },
   "source": [
    "## \"Métodos especiais\"\n",
    "\n",
    "* Métodos especiais são identificados por nomes no padrão `__metodo__()` e definem como os objetos derivados da classe se comportarão em situações particulares, como em **sobrecarga de operadores**.\n",
    "       \n",
    "* Métodos de objeto/instância podem usar atributos e outros métodos do objeto/instância. \n",
    "        \n",
    "* Os **métodos de instância** (\"normais\") têm sempre uma primeira variável, por convenção **`self`**, que **representa o objeto**. Que \"não conta na chamada\" ao método.\n",
    "\n",
    "* **métodos de classe** são decorados com  `@classmethod` sendo especiais pois como primeiro argumento passam uma **referência à classe**, por convenção `cls`.\n",
    "        \n",
    "* Os métodos de classe apenas podem usar atributos e outros métodos de classe.\n",
    "\n",
    "* Os métodos de classe podem funcionar como **\"factories\"**.\n",
    "\n",
    "* **Métodos estáticos** são aqueles que não tem ligação com atributos do objeto ou da classe. Funcionam como as funções comuns."
   ]
  },
  {
   "cell_type": "markdown",
   "metadata": {
    "slideshow": {
     "slide_type": "subslide"
    }
   },
   "source": [
    "```Python\n",
    "    class Classe(supcl1, supcl2):\n",
    "        \"\"\" Isto é uma classe \"\"\"\n",
    "        clsvar = []\n",
    "\n",
    "        def __init__(self, args):\n",
    "            \"\"\"Inicializador da classe\"\"\"\n",
    "            <bloco de código>\n",
    "\n",
    "        def metodo(self, params):\n",
    "            \"\"\"Método de objeto\"\"\"\n",
    "            <bloco de código>\n",
    "\n",
    "        @classmethod\n",
    "        def cls_metodo(cls, params):\n",
    "            \"\"\"Método de classe\"\"\"\n",
    "            <bloco de código>\n",
    "\n",
    "        @staticmethod\n",
    "        def est_metodo(params):\n",
    "            \"\"\"Método estático\"\"\"\n",
    "            <bloco de código>\n",
    "```"
   ]
  },
  {
   "cell_type": "markdown",
   "metadata": {
    "slideshow": {
     "slide_type": "subslide"
    }
   },
   "source": [
    "Vejamos um exemplo"
   ]
  },
  {
   "cell_type": "code",
   "execution_count": null,
   "metadata": {
    "ExecuteTime": {
     "end_time": "2022-03-08T11:51:04.623136Z",
     "start_time": "2022-03-08T11:51:04.617087Z"
    }
   },
   "outputs": [],
   "source": [
    "class Pizza:\n",
    "    \n",
    "    # area de pizza por pessoa - variável de classe (comum a todas as instâncias)\n",
    "    area_por_pessoa = 750.\n",
    "    \n",
    "    def __init__(self, nome, ingredientes):\n",
    "        self.nome = nome\n",
    "        self.ingredientes = ingredientes\n",
    "\n",
    "    def __repr__(self):\n",
    "        return f'{self.nome}({self.ingredientes})'\n",
    "    \n",
    "    def tem_ingrediente(self, ingrediente):\n",
    "        \"\"\" verifica se a instancia tem um dado ingrediente (True) ou não (False)\"\"\"\n",
    "        return ingrediente in self.ingredientes\n",
    "    \n",
    "    @classmethod\n",
    "    def margherita(cls):\n",
    "        \"\"\"devolve um objeto, instancia de Pizza, com os ingredientes \n",
    "        da Pizza margherita\"\"\"\n",
    "        return cls(\"Margherita\", ['mozzarela', 'tomate'])\n",
    "\n",
    "    @classmethod\n",
    "    def prosciutto(cls):\n",
    "        \"\"\"devolve um objeto, instancia de Pizza, com os ingredientes \n",
    "        da Pizza prosciutto\"\"\"\n",
    "        return cls(\"Prosciutto\", ['mozzarela', 'tomate', 'fiambre'])\n",
    "    \n",
    "    @staticmethod\n",
    "    def para_quantas_pessoas(raio):\n",
    "        \"\"\"metodo (estatico) que estima e devolve para quantas pessoas \n",
    "        é uma pizza, sabendo o seu raio devolve area_pizza / area_por_pessoa\n",
    "        \"\"\"\n",
    "        area_pizza = 3.14 * raio ** 2\n",
    "        return area_pizza / Pizza.area_por_pessoa\n",
    "    \n",
    "    @staticmethod\n",
    "    def qual_o_raio(numero_pessoas):\n",
    "        \"\"\"metodo (estatico) que estima o raio que a pizza deve ter dado\n",
    "            o número de pessoas devolve \n",
    "        \"\"\"\n",
    "        area_total = numero_pessoas * Pizza.area_por_pessoa \n",
    "        return (area_total / 3.14) ** .5"
   ]
  },
  {
   "cell_type": "markdown",
   "metadata": {},
   "source": [
    "Podemos então criar uma pizza indicando os ingredientes, ao correr o construtor + inicializador"
   ]
  },
  {
   "cell_type": "code",
   "execution_count": null,
   "metadata": {
    "ExecuteTime": {
     "end_time": "2022-03-08T11:51:04.693723Z",
     "start_time": "2022-03-08T11:51:04.686713Z"
    },
    "slideshow": {
     "slide_type": "subslide"
    }
   },
   "outputs": [],
   "source": [
    "quatro_queijos = Pizza(\"Quatro queijos\", ['mozzarela', 'gorgonzola', 'requeijão', 'parmesão'])\n",
    "quatro_queijos"
   ]
  },
  {
   "cell_type": "markdown",
   "metadata": {},
   "source": [
    "e perguntar se a piza tem \"mozarella\""
   ]
  },
  {
   "cell_type": "code",
   "execution_count": null,
   "metadata": {
    "ExecuteTime": {
     "end_time": "2022-03-08T11:51:04.751410Z",
     "start_time": "2022-03-08T11:51:04.748088Z"
    }
   },
   "outputs": [],
   "source": [
    "quatro_queijos.tem_ingrediente(\"mozzarela\")"
   ]
  },
  {
   "cell_type": "markdown",
   "metadata": {},
   "source": [
    "Usando o método de classe, podemos criar uma instância da piza _margherita_ ou _prosciutto_"
   ]
  },
  {
   "cell_type": "code",
   "execution_count": null,
   "metadata": {
    "ExecuteTime": {
     "end_time": "2022-03-08T11:51:04.821525Z",
     "start_time": "2022-03-08T11:51:04.817680Z"
    }
   },
   "outputs": [],
   "source": [
    "margherita = Pizza.margherita()\n",
    "margherita"
   ]
  },
  {
   "cell_type": "code",
   "execution_count": null,
   "metadata": {
    "ExecuteTime": {
     "end_time": "2022-03-08T11:51:04.836418Z",
     "start_time": "2022-03-08T11:51:04.833342Z"
    }
   },
   "outputs": [],
   "source": [
    "prosciutto = Pizza.prosciutto()\n",
    "prosciutto"
   ]
  },
  {
   "cell_type": "markdown",
   "metadata": {},
   "source": [
    "Independente da instância e da classe, podemos calcular a quantidade de pizza/pessoas adequada para a \"festa lá de casa\"!"
   ]
  },
  {
   "cell_type": "code",
   "execution_count": null,
   "metadata": {
    "ExecuteTime": {
     "end_time": "2022-03-08T11:51:04.897696Z",
     "start_time": "2022-03-08T11:51:04.894063Z"
    },
    "slideshow": {
     "slide_type": "subslide"
    }
   },
   "outputs": [],
   "source": [
    "r = 27\n",
    "f'uma pizza com {r}cm de raio dá para {Pizza.para_quantas_pessoas(r)} pessoas'"
   ]
  },
  {
   "cell_type": "code",
   "execution_count": null,
   "metadata": {
    "ExecuteTime": {
     "end_time": "2022-03-08T11:51:04.911314Z",
     "start_time": "2022-03-08T11:51:04.908493Z"
    },
    "slideshow": {
     "slide_type": "subslide"
    }
   },
   "outputs": [],
   "source": [
    "p = 4\n",
    "f'para {p} pessoas deve encomendar uma pizza com {Pizza.qual_o_raio(p)} cm de raio'"
   ]
  }
 ],
 "metadata": {
  "kernelspec": {
   "display_name": "Python 3",
   "language": "python",
   "name": "python3"
  },
  "language_info": {
   "codemirror_mode": {
    "name": "ipython",
    "version": 3
   },
   "file_extension": ".py",
   "mimetype": "text/x-python",
   "name": "python",
   "nbconvert_exporter": "python",
   "pygments_lexer": "ipython3",
   "version": "3.9.7"
  },
  "nbTranslate": {
   "displayLangs": [
    "*"
   ],
   "hotkey": "alt-t",
   "langInMainMenu": true,
   "sourceLang": "en",
   "targetLang": "fr",
   "useGoogleTranslate": true
  },
  "toc": {
   "base_numbering": 1,
   "nav_menu": {},
   "number_sections": true,
   "sideBar": true,
   "skip_h1_title": false,
   "title_cell": "Table of Contents",
   "title_sidebar": "Contents",
   "toc_cell": false,
   "toc_position": {},
   "toc_section_display": true,
   "toc_window_display": false
  },
  "varInspector": {
   "cols": {
    "lenName": 16,
    "lenType": 16,
    "lenVar": 40
   },
   "kernels_config": {
    "python": {
     "delete_cmd_postfix": "",
     "delete_cmd_prefix": "del ",
     "library": "var_list.py",
     "varRefreshCmd": "print(var_dic_list())"
    },
    "r": {
     "delete_cmd_postfix": ") ",
     "delete_cmd_prefix": "rm(",
     "library": "var_list.r",
     "varRefreshCmd": "cat(var_dic_list()) "
    }
   },
   "types_to_exclude": [
    "module",
    "function",
    "builtin_function_or_method",
    "instance",
    "_Feature"
   ],
   "window_display": false
  }
 },
 "nbformat": 4,
 "nbformat_minor": 2
}
