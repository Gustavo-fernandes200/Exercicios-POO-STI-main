{
 "cells": [
  {
   "cell_type": "markdown",
   "metadata": {
    "slideshow": {
     "slide_type": "slide"
    }
   },
   "source": [
    "# Programação Orientada aos Objetos (POO) - parte II\n",
    "Pedro Cardoso\n",
    "\n",
    "(ISE/UAlg - pcardoso@ualg.pt)"
   ]
  },
  {
   "cell_type": "markdown",
   "metadata": {
    "slideshow": {
     "slide_type": "slide"
    },
    "solution": "hidden"
   },
   "source": [
    "## Encapsulamento\n",
    "* Em Python NÃO existem variáveis e métodos protegidos ou privados  \n",
    " \n",
    "* Para os atributos/métodos \"protegidos\" é usada uma convenção: nomes que comecem com _underscore_ (\"_\")\n",
    "\n",
    "* Para os atributos/métodos \"privados\" faz-se o *Name Mangling* que aos nomes que iniciam com dois _underscore_ acrescenta no início um _underscore_ e o nome da classe.\n",
    "\n",
    "Vejamos como se faz o encapsulamento em Python"
   ]
  },
  {
   "cell_type": "code",
   "execution_count": null,
   "metadata": {
    "slideshow": {
     "slide_type": "subslide"
    }
   },
   "outputs": [],
   "source": [
    "class Carro:\n",
    "    def __init__(self, cor, marca, modelo, dono, consumo, kms):\n",
    "        self._cor = cor           # atributo protegido... nao devemos aceder diretamente ao atributo \n",
    "        self._marca = marca       # idem ...\n",
    "        self._modelo = modelo\n",
    "        self._dono = dono\n",
    "        self._consumo = consumo\n",
    "        self._kms = kms\n",
    "        self.__atributo_quase_privado = \"Já disse: não mexer!!!\"\n",
    "\n",
    "    def __repr__(self):\n",
    "        # __repr__ is a special method used to represent a class's objects as a string\n",
    "        return f'''A/O {self._dono} tem um {self._marca} {self._modelo} de cor {self._cor} que gasta {self._consumo}l/100Km e tem {self._kms}kms. \n",
    "        Logo gastou {self._kms / 100 * self._consumo}l desde que o comprou.'''\n",
    "\n",
    "    def __metodo_quase_privado(self):\n",
    "        return 'Nao e facil chegar aqui!'\n",
    "\n",
    "    def print_info(self):\n",
    "        print(self)   # vai chamar o __repr__()"
   ]
  },
  {
   "cell_type": "markdown",
   "metadata": {
    "slideshow": {
     "slide_type": "subslide"
    }
   },
   "source": [
    "Vejamos quais são os métodos que a classe `Carro` tem "
   ]
  },
  {
   "cell_type": "code",
   "execution_count": null,
   "metadata": {},
   "outputs": [],
   "source": [
    "print(dir(Carro)) # repare on _Carro__metodo_quase_privado'"
   ]
  },
  {
   "cell_type": "markdown",
   "metadata": {
    "slideshow": {
     "slide_type": "subslide"
    }
   },
   "source": [
    "Podemos aceder a todos os atributos e métodos (\"privados\" ou \"protegidos\") mas devemos ter cuidado. A ideia é que \"somos todos adultos\" "
   ]
  },
  {
   "cell_type": "code",
   "execution_count": null,
   "metadata": {},
   "outputs": [],
   "source": [
    "carro_a = Carro('vermelha', 'Fiat', '500', 'Claudia', 6, 20000)\n",
    "\n",
    "print(carro_a) # o \"mesmo que\" print(carro_a.__repr__())"
   ]
  },
  {
   "cell_type": "code",
   "execution_count": null,
   "metadata": {},
   "outputs": [],
   "source": [
    "carro_a.print_info()"
   ]
  },
  {
   "cell_type": "markdown",
   "metadata": {
    "slideshow": {
     "slide_type": "subslide"
    }
   },
   "source": [
    "Não deviamos aceder a um atributo \"protegido\""
   ]
  },
  {
   "cell_type": "code",
   "execution_count": null,
   "metadata": {},
   "outputs": [],
   "source": [
    "carro_a._cor"
   ]
  },
  {
   "cell_type": "markdown",
   "metadata": {
    "slideshow": {
     "slide_type": "subslide"
    }
   },
   "source": [
    "E muito menos aceder a algo \"privado\""
   ]
  },
  {
   "cell_type": "code",
   "execution_count": null,
   "metadata": {},
   "outputs": [],
   "source": [
    "# carro_a.__metodo_quase_privado() não existe\n",
    "carro_a._Carro__metodo_quase_privado()"
   ]
  },
  {
   "cell_type": "markdown",
   "metadata": {},
   "source": [
    "ou aos atributos"
   ]
  },
  {
   "cell_type": "code",
   "execution_count": null,
   "metadata": {},
   "outputs": [],
   "source": [
    "carro_a._Carro__atributo_quase_privado"
   ]
  },
  {
   "cell_type": "markdown",
   "metadata": {
    "slideshow": {
     "slide_type": "slide"
    }
   },
   "source": [
    "### getter e setters\n",
    "\n",
    "Para aceder às variáveis \"protegidas\"/\"privadas\" usam-se pois em muitas linguagens *getters* e *setters*. \n",
    "\n",
    "Considere a classe `Carro` com os atributos `cor` e `marca`\n",
    "\n",
    "Em python temos ainda *properties* (ver últimas linhas da definição da classe `Carro`)."
   ]
  },
  {
   "cell_type": "code",
   "execution_count": null,
   "metadata": {
    "slideshow": {
     "slide_type": "subslide"
    }
   },
   "outputs": [],
   "source": [
    "class Carro:\n",
    "\n",
    "    def __init__(self, cor, marca):\n",
    "        self.cor = cor  # chama a propriedade (valida dados). E guarda o valor em self.__cor. Ver ultimas linhas da definicao da classe\n",
    "        self.marca = marca # chama a propriedade (valida dados).E guarda o valor em self.__marca\n",
    "\n",
    "    def get_cor(self):\n",
    "        \"\"\"devolve o valor de __cor\"\"\"\n",
    "        return self.__cor\n",
    "\n",
    "    def set_cor(self, cor):\n",
    "        \"\"\"define o valor de __cor. \n",
    "        \n",
    "         Parameters\n",
    "        ----------\n",
    "        param1 : valores admissiveis ['vermelha', 'branca', 'amarela']\n",
    "            valor da cor\n",
    "        \"\"\"\n",
    "        if cor.lower() in ['vermelha', 'branca', 'amarela']:\n",
    "            print('Cor válida')\n",
    "            self.__cor = cor\n",
    "        else:\n",
    "            print('Cor inválida')\n",
    "            raise\n",
    "\n",
    "    def get_marca(self):\n",
    "        \"\"\"devolve o valor de __marca\"\"\"\n",
    "        return self.__marca\n",
    "\n",
    "    def set_marca(self, marca):\n",
    "        \"\"\"define o valor de __marca\n",
    "        \n",
    "         Parameters\n",
    "        ----------\n",
    "        param1 : valores admissiveis ['audi', 'fiat', 'seat', 'ferrari']\n",
    "            valor da marca\n",
    "        \"\"\"        \n",
    "        if marca.lower() in ['audi', 'fiat', 'seat', 'ferrari']:\n",
    "            self.__marca = marca\n",
    "        else:\n",
    "            raise\n",
    "\n",
    "    # definir as propriedades (getter e setter) para cor e marca\n",
    "    cor = property(get_cor, set_cor)\n",
    "    marca = property(get_marca, set_marca)"
   ]
  },
  {
   "cell_type": "markdown",
   "metadata": {
    "slideshow": {
     "slide_type": "subslide"
    }
   },
   "source": [
    "\"Dentro\" carro temos métodos e ... "
   ]
  },
  {
   "cell_type": "code",
   "execution_count": null,
   "metadata": {},
   "outputs": [],
   "source": [
    "print(dir(Carro))"
   ]
  },
  {
   "cell_type": "markdown",
   "metadata": {
    "slideshow": {
     "slide_type": "subslide"
    }
   },
   "source": [
    "... proriedades"
   ]
  },
  {
   "cell_type": "code",
   "execution_count": null,
   "metadata": {},
   "outputs": [],
   "source": [
    "type(Carro.cor)"
   ]
  },
  {
   "cell_type": "markdown",
   "metadata": {
    "slideshow": {
     "slide_type": "subslide"
    }
   },
   "source": [
    "E se instanciamos a classe"
   ]
  },
  {
   "cell_type": "code",
   "execution_count": null,
   "metadata": {},
   "outputs": [],
   "source": [
    "c1 = Carro('vermelha', 'Fiat')"
   ]
  },
  {
   "cell_type": "markdown",
   "metadata": {},
   "source": [
    "passamos a ter também atributos _mangled_ (`'_Carro__cor', '_Carro__marca'`). \n",
    "\n",
    "Note-se que estes atributos só passam a existir depois de instanciarmos a classe, i.e., só depois do método `__init__` ser chamado. "
   ]
  },
  {
   "cell_type": "code",
   "execution_count": null,
   "metadata": {},
   "outputs": [],
   "source": [
    "print(dir(c1))"
   ]
  },
  {
   "cell_type": "markdown",
   "metadata": {},
   "source": [
    "para redefenir a cor podemos usar a _property_ ou aceder diretamente ao *setter*"
   ]
  },
  {
   "cell_type": "code",
   "execution_count": null,
   "metadata": {
    "slideshow": {
     "slide_type": "subslide"
    }
   },
   "outputs": [],
   "source": [
    "# usar a property\n",
    "c1.cor = 'branca' # ok!\n",
    "\n",
    "# usar o setter\n",
    "c1.set_cor('branca') # ok!"
   ]
  },
  {
   "cell_type": "markdown",
   "metadata": {},
   "source": [
    "do mesmo modo podemos aceder ao valor da cor"
   ]
  },
  {
   "cell_type": "code",
   "execution_count": null,
   "metadata": {},
   "outputs": [],
   "source": [
    "# usar a property\n",
    "print(c1.cor)\n",
    "\n",
    "# usar o getter\n",
    "print(c1.get_cor())"
   ]
  },
  {
   "cell_type": "markdown",
   "metadata": {
    "slideshow": {
     "slide_type": "subslide"
    }
   },
   "source": [
    "Ao usar o setter (a _property_ ) podemos validar as entradas"
   ]
  },
  {
   "cell_type": "code",
   "execution_count": null,
   "metadata": {},
   "outputs": [],
   "source": [
    "try:\n",
    "    c1.cor = 'verde'\n",
    "except:\n",
    "    print('Erro: essa cor nao é válida')\n"
   ]
  },
  {
   "cell_type": "markdown",
   "metadata": {
    "slideshow": {
     "slide_type": "subslide"
    }
   },
   "source": [
    "e obviamente podemos fazer igual raciocinio para a marca"
   ]
  },
  {
   "cell_type": "code",
   "execution_count": null,
   "metadata": {},
   "outputs": [],
   "source": [
    "c1.marca = 'Seat'  # ok!"
   ]
  },
  {
   "cell_type": "code",
   "execution_count": null,
   "metadata": {},
   "outputs": [],
   "source": [
    "try:\n",
    "    c1.marca = 'Ferrary'\n",
    "except:\n",
    "    print('Erro: essa marca nao existe')"
   ]
  },
  {
   "cell_type": "markdown",
   "metadata": {
    "slideshow": {
     "slide_type": "slide"
    },
    "solution": "hidden",
    "solution_first": true
   },
   "source": [
    "### Exercícios\n",
    "Reimplemente a classe `Carro` encapsulando as variáveis da mesma\n",
    "```Python\n",
    "class Carro:\n",
    "    def __init__(self, cor, marca, modelo, dono, consumo, kms):\n",
    "        self.cor = cor\n",
    "        self.marca = marca\n",
    "        self.modelo = modelo\n",
    "        self.dono = dono\n",
    "        self.consumo = consumo\n",
    "        self.kms = kms\n",
    "    \n",
    "    def print_info(self):\n",
    "        print('A {} tem um {} {} que gasta {}l/100Km e tem {}kms.'.format(\n",
    "            self.dono, self.marca, self.modelo, self.consumo, self.kms))\n",
    "```\n"
   ]
  },
  {
   "cell_type": "markdown",
   "metadata": {
    "slideshow": {
     "slide_type": "slide"
    }
   },
   "source": [
    "## Solução mais _Pythoniana_\n",
    "\n",
    "Uma solução mais \"Pythoniana\" usa decoradores\n"
   ]
  },
  {
   "cell_type": "code",
   "execution_count": null,
   "metadata": {},
   "outputs": [],
   "source": [
    "class Carro:\n",
    "\n",
    "    def __init__(self, cor, marca):\n",
    "        self.cor = cor  # chama a propriedade (valida dados). E guarda o valor em self.__cor\n",
    "        self.marca = marca # chama a propriedade (valida dados).E guarda o valor em self.__marca\n",
    "    \n",
    "    @property\n",
    "    def cor(self):             # este é um getter\n",
    "        return self.__cor\n",
    "\n",
    "    @cor.setter\n",
    "    def cor(self, cor):\n",
    "        print('debug: setting a cor')\n",
    "        assert cor.lower() in ['vermelha', 'branca', 'amarela']\n",
    "        self.__cor = cor\n",
    "            \n",
    "    @cor.deleter\n",
    "    def cor(self):\n",
    "        print('debug: a colocar a cor a None')\n",
    "        self.__cor = None\n",
    "    \n",
    "    @property\n",
    "    def marca(self):\n",
    "        return self.__marca\n",
    "    \n",
    "    @marca.setter\n",
    "    def marca(self, marca):\n",
    "        print('debug: setting a marca')\n",
    "        assert marca.lower() in ['audi', 'fiat', 'seat', 'ferrari']\n",
    "        self.__marca = marca\n"
   ]
  },
  {
   "cell_type": "code",
   "execution_count": null,
   "metadata": {
    "slideshow": {
     "slide_type": "subslide"
    }
   },
   "outputs": [],
   "source": [
    "c = Carro('vermelha', 'fiat')"
   ]
  },
  {
   "cell_type": "code",
   "execution_count": null,
   "metadata": {},
   "outputs": [],
   "source": [
    "c.cor='branca'"
   ]
  },
  {
   "cell_type": "code",
   "execution_count": null,
   "metadata": {},
   "outputs": [],
   "source": [
    "print(c.cor)"
   ]
  },
  {
   "cell_type": "code",
   "execution_count": null,
   "metadata": {
    "slideshow": {
     "slide_type": "subslide"
    }
   },
   "outputs": [],
   "source": [
    "try:\n",
    "    c.cor = 'azul'\n",
    "except AssertionError:\n",
    "    print(\"Essa cor é inválida!\")"
   ]
  },
  {
   "cell_type": "code",
   "execution_count": null,
   "metadata": {
    "slideshow": {
     "slide_type": "subslide"
    }
   },
   "outputs": [],
   "source": [
    "del(c.cor)"
   ]
  },
  {
   "cell_type": "code",
   "execution_count": null,
   "metadata": {},
   "outputs": [],
   "source": [
    "print(c.cor)"
   ]
  },
  {
   "cell_type": "markdown",
   "metadata": {
    "slideshow": {
     "slide_type": "slide"
    }
   },
   "source": [
    "# Exercício\n",
    "\n",
    "* Usando decoradores, implemente as classes apresentadas no diagrama da Figura (use o pycharm ou outro IDE avançado). \n",
    "* Crie um programa que permita de modo interativo listar, inserir, remover, e editar carros de uma lista. \n",
    "* Crie ainda uma opção para gravar essa lista num ficheiro (veja o pacote pickle)\n",
    "  \n",
    "![title](umlcar03.png)\n",
    "\n"
   ]
  },
  {
   "cell_type": "code",
   "execution_count": null,
   "metadata": {},
   "outputs": [],
   "source": [
    "class Person:\n",
    "    pass\n",
    "\n",
    "ze = Person()"
   ]
  },
  {
   "cell_type": "code",
   "execution_count": null,
   "metadata": {},
   "outputs": [],
   "source": [
    "class Color:\n",
    "    pass\n",
    "\n",
    "red = Color()"
   ]
  },
  {
   "cell_type": "code",
   "execution_count": null,
   "metadata": {},
   "outputs": [],
   "source": [
    "class Engine:\n",
    "    pass\n",
    "\n",
    "v8 = Engine()"
   ]
  },
  {
   "cell_type": "code",
   "execution_count": null,
   "metadata": {},
   "outputs": [],
   "source": [
    "class Car:\n",
    "    def __init__(self, owner, color, engine, marca, modelo, kms):\n",
    "        assert isinstance(owner, Person)\n",
    "        assert isinstance(color, Color)\n",
    "        assert isinstance(engine, Engine)\n",
    "        pass\n",
    "\n",
    "car_1 = Car(owner=ze, color=red, engine=v8, marca='Fiat', modelo='500', kms=20000)"
   ]
  },
  {
   "cell_type": "code",
   "execution_count": null,
   "metadata": {},
   "outputs": [],
   "source": []
  }
 ],
 "metadata": {
  "kernelspec": {
   "display_name": "Python 3 (ipykernel)",
   "language": "python",
   "name": "python3"
  },
  "language_info": {
   "codemirror_mode": {
    "name": "ipython",
    "version": 3
   },
   "file_extension": ".py",
   "mimetype": "text/x-python",
   "name": "python",
   "nbconvert_exporter": "python",
   "pygments_lexer": "ipython3",
   "version": "3.9.18"
  },
  "latex_envs": {
   "LaTeX_envs_menu_present": true,
   "autoclose": false,
   "autocomplete": true,
   "bibliofile": "biblio.bib",
   "cite_by": "apalike",
   "current_citInitial": 1,
   "eqLabelWithNumbers": true,
   "eqNumInitial": 1,
   "hotkeys": {
    "equation": "Ctrl-E",
    "itemize": "Ctrl-I"
   },
   "labels_anchors": false,
   "latex_user_defs": false,
   "report_style_numbering": true,
   "user_envs_cfg": true
  },
  "nbTranslate": {
   "displayLangs": [
    "*"
   ],
   "hotkey": "alt-t",
   "langInMainMenu": true,
   "sourceLang": "en",
   "targetLang": "fr",
   "useGoogleTranslate": true
  },
  "toc": {
   "base_numbering": 1,
   "nav_menu": {},
   "number_sections": true,
   "sideBar": true,
   "skip_h1_title": false,
   "title_cell": "Table of Contents",
   "title_sidebar": "Contents",
   "toc_cell": false,
   "toc_position": {},
   "toc_section_display": true,
   "toc_window_display": false
  },
  "varInspector": {
   "cols": {
    "lenName": 16,
    "lenType": 16,
    "lenVar": 40
   },
   "kernels_config": {
    "python": {
     "delete_cmd_postfix": "",
     "delete_cmd_prefix": "del ",
     "library": "var_list.py",
     "varRefreshCmd": "print(var_dic_list())"
    },
    "r": {
     "delete_cmd_postfix": ") ",
     "delete_cmd_prefix": "rm(",
     "library": "var_list.r",
     "varRefreshCmd": "cat(var_dic_list()) "
    }
   },
   "types_to_exclude": [
    "module",
    "function",
    "builtin_function_or_method",
    "instance",
    "_Feature"
   ],
   "window_display": false
  }
 },
 "nbformat": 4,
 "nbformat_minor": 4
}
