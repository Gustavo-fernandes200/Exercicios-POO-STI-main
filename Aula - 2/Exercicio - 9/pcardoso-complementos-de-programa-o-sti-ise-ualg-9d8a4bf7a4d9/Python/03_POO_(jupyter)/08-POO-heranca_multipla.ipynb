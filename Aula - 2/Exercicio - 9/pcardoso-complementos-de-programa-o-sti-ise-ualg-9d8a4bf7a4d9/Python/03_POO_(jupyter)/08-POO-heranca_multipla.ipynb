{
 "cells": [
  {
   "cell_type": "markdown",
   "metadata": {
    "ExecuteTime": {
     "end_time": "2019-11-20T17:37:14.117271Z",
     "start_time": "2019-11-20T17:37:14.112275Z"
    },
    "slideshow": {
     "slide_type": "slide"
    }
   },
   "source": [
    "# Programação Orientada aos Objetos (POO) - parte VIII\n",
    "\n",
    "Pedro Cardoso\n",
    "\n",
    "(ISE/UAlg - pcardoso@ualg.pt)"
   ]
  },
  {
   "cell_type": "markdown",
   "metadata": {
    "slideshow": {
     "slide_type": "slide"
    }
   },
   "source": [
    "A herança múltipla ocorre sempre que uma subclasse possui duas ou mais superclasses imediatas, ou seja, é \"filha\" de mais de uma classe.\n",
    "\n",
    "\n",
    "![alt text](MultiplaHeranca.png \"Classe\")"
   ]
  },
  {
   "cell_type": "code",
   "execution_count": null,
   "metadata": {
    "ExecuteTime": {
     "end_time": "2022-03-15T11:24:59.336208Z",
     "start_time": "2022-03-15T11:24:59.330124Z"
    },
    "slideshow": {
     "slide_type": "subslide"
    }
   },
   "outputs": [],
   "source": [
    "class Vehicle:\n",
    "    def __init__(self, owner, brand):\n",
    "        self.owner = owner\n",
    "        self.brand = brand\n",
    "\n",
    "    @property \n",
    "    def owner(self):\n",
    "        return self.__owner\n",
    "    \n",
    "    @owner.setter\n",
    "    def owner(self, owner):\n",
    "        self.__owner = owner\n",
    "    \n",
    "    @property\n",
    "    def brand(self):\n",
    "        return self.__brand\n",
    "    \n",
    "    @brand.setter\n",
    "    def brand(self, brand):\n",
    "        self.__brand = brand"
   ]
  },
  {
   "cell_type": "code",
   "execution_count": null,
   "metadata": {
    "ExecuteTime": {
     "end_time": "2022-03-15T11:25:00.196592Z",
     "start_time": "2022-03-15T11:25:00.192506Z"
    },
    "slideshow": {
     "slide_type": "subslide"
    }
   },
   "outputs": [],
   "source": [
    "class LandVehicle(Vehicle):\n",
    "    def __init__(self, owner, brand, land_velocity):\n",
    "        print(\"1\", super(LandVehicle, self))\n",
    "        super().__init__(self, owner, brand)\n",
    "        self.land_velocity = land_velocity\n",
    "\n",
    "    @property \n",
    "    def land_velocity(self):\n",
    "        return self.__land_velocity\n",
    "    \n",
    "    @land_velocity.setter\n",
    "    def land_velocity(self, lv):\n",
    "        self.__land_velocity = lv"
   ]
  },
  {
   "cell_type": "code",
   "execution_count": null,
   "metadata": {
    "ExecuteTime": {
     "end_time": "2022-03-15T11:25:00.901867Z",
     "start_time": "2022-03-15T11:25:00.897258Z"
    },
    "slideshow": {
     "slide_type": "subslide"
    }
   },
   "outputs": [],
   "source": [
    "class WaterVehicle(Vehicle):\n",
    "    def __init__(self, owner, brand, water_velocity):\n",
    "        print(\"2\", super(WaterVehicle, self))\n",
    "        Vehicle.__init__(self, owner, brand)\n",
    "        self.water_velocity = water_velocity\n",
    "\n",
    "    @property \n",
    "    def water_velocity(self):\n",
    "        return self.__water_velocity\n",
    "    \n",
    "    @water_velocity.setter\n",
    "    def water_velocity(self, wv):\n",
    "        self.__water_velocity = wv"
   ]
  },
  {
   "cell_type": "markdown",
   "metadata": {
    "slideshow": {
     "slide_type": "subslide"
    }
   },
   "source": [
    "e a classe `AmphibiousVehicle` deriva das anteriores "
   ]
  },
  {
   "cell_type": "code",
   "execution_count": null,
   "metadata": {
    "ExecuteTime": {
     "end_time": "2022-03-15T11:25:02.073599Z",
     "start_time": "2022-03-15T11:25:02.069479Z"
    }
   },
   "outputs": [],
   "source": [
    "class AmphibiousVehicle(LandVehicle, WaterVehicle):\n",
    "    def __init__(self, owner, brand, land_velocity, water_velocity):\n",
    "        LandVehicle.__init__(self, owner, brand, land_velocity)\n",
    "        WaterVehicle.__init__(self, owner, brand, water_velocity)\n",
    "    \n",
    "    def print_info(self):\n",
    "        print(f'Isto é um veiculo anfíbio cujo dono é {self.owner} da marca {self.brand} e anda a {self.land_velocity} km/h em terra e a {self.water_velocity} nós em água')      \n",
    "    "
   ]
  },
  {
   "cell_type": "code",
   "execution_count": null,
   "metadata": {
    "ExecuteTime": {
     "end_time": "2022-03-15T11:25:02.805945Z",
     "start_time": "2022-03-15T11:25:02.800085Z"
    },
    "slideshow": {
     "slide_type": "subslide"
    }
   },
   "outputs": [],
   "source": [
    "a = AmphibiousVehicle('Margarida', 'rinspeed splash', 199, 38)\n",
    "a.print_info()"
   ]
  },
  {
   "cell_type": "code",
   "execution_count": null,
   "metadata": {
    "ExecuteTime": {
     "end_time": "2022-03-15T11:25:04.624227Z",
     "start_time": "2022-03-15T11:25:04.621423Z"
    }
   },
   "outputs": [],
   "source": [
    "a.owner = \"ze\""
   ]
  },
  {
   "cell_type": "markdown",
   "metadata": {
    "slideshow": {
     "slide_type": "subslide"
    }
   },
   "source": [
    "A ordem de resolução dos métodos (Method Resolution Order - mro) pode ser vista no atributo `__mro__`"
   ]
  },
  {
   "cell_type": "code",
   "execution_count": null,
   "metadata": {
    "ExecuteTime": {
     "end_time": "2022-03-15T11:25:06.214684Z",
     "start_time": "2022-03-15T11:25:06.206499Z"
    }
   },
   "outputs": [],
   "source": [
    "AmphibiousVehicle.__mro__"
   ]
  },
  {
   "cell_type": "code",
   "execution_count": null,
   "metadata": {},
   "outputs": [],
   "source": []
  }
 ],
 "metadata": {
  "kernelspec": {
   "display_name": "Python 3 (ipykernel)",
   "language": "python",
   "name": "python3"
  },
  "language_info": {
   "codemirror_mode": {
    "name": "ipython",
    "version": 3
   },
   "file_extension": ".py",
   "mimetype": "text/x-python",
   "name": "python",
   "nbconvert_exporter": "python",
   "pygments_lexer": "ipython3",
   "version": "3.8.10"
  },
  "latex_envs": {
   "LaTeX_envs_menu_present": true,
   "autoclose": true,
   "autocomplete": true,
   "bibliofile": "references.bib",
   "cite_by": "apalike",
   "current_citInitial": 1,
   "eqLabelWithNumbers": false,
   "eqNumInitial": 1,
   "hotkeys": {
    "equation": "Ctrl-E",
    "itemize": "Ctrl-I"
   },
   "labels_anchors": false,
   "latex_user_defs": false,
   "report_style_numbering": true,
   "user_envs_cfg": false
  },
  "toc": {
   "base_numbering": 1,
   "nav_menu": {},
   "number_sections": true,
   "sideBar": true,
   "skip_h1_title": false,
   "title_cell": "Table of Contents",
   "title_sidebar": "Contents",
   "toc_cell": false,
   "toc_position": {},
   "toc_section_display": true,
   "toc_window_display": false
  },
  "varInspector": {
   "cols": {
    "lenName": 16,
    "lenType": 16,
    "lenVar": 40
   },
   "kernels_config": {
    "python": {
     "delete_cmd_postfix": "",
     "delete_cmd_prefix": "del ",
     "library": "var_list.py",
     "varRefreshCmd": "print(var_dic_list())"
    },
    "r": {
     "delete_cmd_postfix": ") ",
     "delete_cmd_prefix": "rm(",
     "library": "var_list.r",
     "varRefreshCmd": "cat(var_dic_list()) "
    }
   },
   "types_to_exclude": [
    "module",
    "function",
    "builtin_function_or_method",
    "instance",
    "_Feature"
   ],
   "window_display": false
  }
 },
 "nbformat": 4,
 "nbformat_minor": 2
}
